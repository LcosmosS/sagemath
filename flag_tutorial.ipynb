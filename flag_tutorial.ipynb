{
 "cells": [
  {
   "cell_type": "markdown",
   "id": "dbd830bd-b428-4786-887c-da759b5217d4",
   "metadata": {},
   "source": [
    "\n",
    "Short guide of the flag algebra package\n",
    "=======================================\n",
    "\n",
    "Contents:\n",
    "1. Quick start\n",
    "2. Flags\n",
    "    1. Creating flags\n",
    "    2. Everything is induced\n",
    "    3. Operations over flags\n",
    "    4. Types\n",
    "    5. Patterns\n",
    "3. Theories\n",
    "    1. Already present theories\n",
    "    4. Creating new theories\n",
    "    2. Excluding things\n",
    "    3. Generating things\n",
    "    5. Combining theories\n",
    "4. Optimizing\n",
    "    1. Assumptions\n",
    "    2. Rounding\n",
    "    3. Construction\n",
    "    4. Certificates\n",
    "    6. Exporting the SDP problem\n",
    "    8. Rounding over field extensions\n",
    "5. Miscallenous"
   ]
  },
  {
   "cell_type": "markdown",
   "id": "499b2984-9356-461b-9299-c55cc50d41e1",
   "metadata": {},
   "source": [
    "Quick start\n",
    "===========\n",
    "\n",
    "Here Mantel's theorem will be demonstrated"
   ]
  },
  {
   "cell_type": "code",
   "execution_count": 1,
   "id": "0a2fb8ed-2cf2-4703-865a-81355945e997",
   "metadata": {
    "scrolled": true
   },
   "outputs": [
    {
     "name": "stdout",
     "output_type": "stream",
     "text": [
      "Base flags generated, their number is 3\n",
      "The relevant ftypes are constructed, their number is 1\n",
      "Block sizes before symmetric/asymmetric change is applied: [2]\n"
     ]
    },
    {
     "name": "stderr",
     "output_type": "stream",
     "text": [
      "Done with mult table for Ftype on 1 points with edges=(): : 1it [00:00, 841.55it/s]"
     ]
    },
    {
     "name": "stdout",
     "output_type": "stream",
     "text": [
      "Tables finished\n",
      "Constraints finished\n",
      "Running sdp without construction. Used block sizes are [2, -3, -2]\n"
     ]
    },
    {
     "name": "stderr",
     "output_type": "stream",
     "text": [
      "\n"
     ]
    },
    {
     "name": "stdout",
     "output_type": "stream",
     "text": [
      "CSDP 6.2.0\n",
      "Iter:  0 Ap: 0.00e+00 Pobj:  0.0000000e+00 Ad: 0.00e+00 Dobj:  0.0000000e+00 \n",
      "Iter:  1 Ap: 1.00e+00 Pobj: -1.5751371e+01 Ad: 7.93e-01 Dobj: -1.8596991e-01 \n",
      "Iter:  2 Ap: 1.00e+00 Pobj: -1.3829292e+01 Ad: 9.44e-01 Dobj: -2.5639377e-01 \n",
      "Iter:  3 Ap: 1.00e+00 Pobj: -3.6548137e+00 Ad: 9.22e-01 Dobj: -2.8097573e-01 \n",
      "Iter:  4 Ap: 1.00e+00 Pobj: -6.7094195e-01 Ad: 8.42e-01 Dobj: -3.1080901e-01 \n",
      "Iter:  5 Ap: 1.00e+00 Pobj: -5.8576089e-01 Ad: 8.47e-01 Dobj: -4.8072710e-01 \n",
      "Iter:  6 Ap: 1.00e+00 Pobj: -5.0662032e-01 Ad: 8.78e-01 Dobj: -4.9275677e-01 \n",
      "Iter:  7 Ap: 1.00e+00 Pobj: -5.0069959e-01 Ad: 9.33e-01 Dobj: -4.9911657e-01 \n",
      "Iter:  8 Ap: 1.00e+00 Pobj: -5.0005821e-01 Ad: 1.00e+00 Dobj: -4.9996202e-01 \n",
      "Iter:  9 Ap: 1.00e+00 Pobj: -5.0000265e-01 Ad: 1.00e+00 Dobj: -4.9999892e-01 \n",
      "Iter: 10 Ap: 1.00e+00 Pobj: -5.0000020e-01 Ad: 1.00e+00 Dobj: -4.9999999e-01 \n",
      "Iter: 11 Ap: 1.00e+00 Pobj: -5.0000001e-01 Ad: 9.90e-01 Dobj: -5.0000000e-01 \n",
      "Iter: 12 Ap: 9.57e-01 Pobj: -5.0000000e-01 Ad: 9.69e-01 Dobj: -5.0000000e-01 \n",
      "Success: SDP solved\n",
      "Primal objective value: -5.0000000e-01 \n",
      "Dual objective value: -5.0000000e-01 \n",
      "Relative primal infeasibility: 6.40e-16 \n",
      "Relative dual infeasibility: 1.18e-10 \n",
      "Real Relative Gap: 2.59e-10 \n",
      "XZ Relative Gap: 4.63e-10 \n",
      "DIMACS error measures: 6.70e-16 0.00e+00 2.46e-10 0.00e+00 2.59e-10 4.63e-10\n",
      "The initial run gave an accurate looking construction\n",
      "Rounded construction vector is: \n",
      "Flag Algebra Element over Rational Field\n",
      "1/4 - Flag on 3 points, ftype from () with edges=()\n",
      "0   - Flag on 3 points, ftype from () with edges=(01)\n",
      "3/4 - Flag on 3 points, ftype from () with edges=(01 02)\n",
      "Adjusting table with kernels from construction\n",
      "Running SDP after kernel correction. Used block sizes are [1, -3, -2]\n",
      "CSDP 6.2.0\n",
      "Iter:  0 Ap: 0.00e+00 Pobj:  0.0000000e+00 Ad: 0.00e+00 Dobj:  0.0000000e+00 \n",
      "Iter:  1 Ap: 1.00e+00 Pobj: -1.2107440e+01 Ad: 8.40e-01 Dobj:  6.1913653e-01 \n",
      "Iter:  2 Ap: 1.00e+00 Pobj: -1.0543280e+01 Ad: 9.38e-01 Dobj: -1.3876525e-01 \n",
      "Iter:  3 Ap: 1.00e+00 Pobj: -2.4595774e+00 Ad: 9.42e-01 Dobj: -1.9392703e-01 \n",
      "Iter:  4 Ap: 9.51e-01 Pobj: -6.1484578e-01 Ad: 8.50e-01 Dobj: -2.3934806e-01 \n",
      "Iter:  5 Ap: 1.00e+00 Pobj: -6.4529870e-01 Ad: 7.42e-01 Dobj: -4.8596320e-01 \n",
      "Iter:  6 Ap: 9.78e-01 Pobj: -5.0782840e-01 Ad: 8.89e-01 Dobj: -4.9454657e-01 \n",
      "Iter:  7 Ap: 9.90e-01 Pobj: -5.0036064e-01 Ad: 9.65e-01 Dobj: -4.9953666e-01 \n",
      "Iter:  8 Ap: 1.00e+00 Pobj: -5.0002547e-01 Ad: 1.00e+00 Dobj: -4.9997505e-01 \n",
      "Iter:  9 Ap: 9.90e-01 Pobj: -5.0000127e-01 Ad: 1.00e+00 Dobj: -4.9999949e-01 \n",
      "Iter: 10 Ap: 1.00e+00 Pobj: -5.0000006e-01 Ad: 1.00e+00 Dobj: -4.9999997e-01 \n",
      "Iter: 11 Ap: 9.70e-01 Pobj: -5.0000000e-01 Ad: 9.70e-01 Dobj: -5.0000000e-01 \n",
      "Success: SDP solved\n",
      "Primal objective value: -5.0000000e-01 \n",
      "Dual objective value: -5.0000000e-01 \n",
      "Relative primal infeasibility: 1.06e-15 \n",
      "Relative dual infeasibility: 1.57e-09 \n",
      "Real Relative Gap: 1.08e-09 \n",
      "XZ Relative Gap: 3.47e-09 \n",
      "DIMACS error measures: 1.11e-15 0.00e+00 3.20e-09 0.00e+00 1.08e-09 3.47e-09\n",
      "Starting the rounding of the result\n",
      "Rounding X matrices\n",
      "Calculating resulting bound\n"
     ]
    },
    {
     "name": "stderr",
     "output_type": "stream",
     "text": [
      "100%|████████████████████████████████████████████| 1/1 [00:00<00:00, 214.89it/s]"
     ]
    },
    {
     "name": "stdout",
     "output_type": "stream",
     "text": [
      "Final rounded bound is 1/2\n"
     ]
    },
    {
     "name": "stderr",
     "output_type": "stream",
     "text": [
      "\n"
     ]
    },
    {
     "data": {
      "text/plain": [
       "1/2"
      ]
     },
     "execution_count": 1,
     "metadata": {},
     "output_type": "execute_result"
    }
   ],
   "source": [
    "# Check Mantel's theorem\n",
    "\n",
    "# Define a triangle\n",
    "triangle = GraphTheory(3, edges=[[0, 1], [0, 2], [1, 2]])\n",
    "\n",
    "# Define an edge\n",
    "edge = GraphTheory(2, edges=[[0, 1]])\n",
    "\n",
    "# Exclude triangles\n",
    "GraphTheory.exclude(triangle)\n",
    "# Maximize edges, calculate up to size 3, make the result exact\n",
    "GraphTheory.optimize(edge, 3, maximize=True, exact=True)"
   ]
  },
  {
   "cell_type": "code",
   "execution_count": 2,
   "id": "6926a408-3bbe-486e-b90b-bcfa1512bd1a",
   "metadata": {},
   "outputs": [],
   "source": [
    "# Python syntax\n",
    "# For short, use G for GraphTheory\n",
    "G = GraphTheory"
   ]
  },
  {
   "cell_type": "markdown",
   "id": "120b1a0d-f003-495f-8de6-cfd0aefdf725",
   "metadata": {},
   "source": [
    "Flags\n",
    "=====\n",
    "\n",
    "1. Creating flags\n",
    "2. Everything is induced\n",
    "3. Operations with flags\n",
    "4. Types\n",
    "5. Patterns"
   ]
  },
  {
   "cell_type": "code",
   "execution_count": 3,
   "id": "3ae807f1-369f-495c-bcbe-bb7453cea306",
   "metadata": {},
   "outputs": [
    {
     "name": "stdout",
     "output_type": "stream",
     "text": [
      "Is cherry the same as other cherry?  True\n",
      "Triangle flag is:  Flag on 3 points, ftype from () with edges=(01 02 12)\n",
      "The test flag is  Flag on 3 points, ftype from () with edges=()\n"
     ]
    }
   ],
   "source": [
    "###\n",
    "### Creating flags\n",
    "###\n",
    "\n",
    "# To create a flag, write TheoryName(size, relation_name=...)\n",
    "\n",
    "# Example for graphs\n",
    "triangle = G(3, edges=[[0, 1], [0, 2], [1, 2]])\n",
    "cherry = G(3, edges=[[0, 1], [0, 2]])\n",
    "# Example for three graphs\n",
    "k4m = ThreeGraphTheory(4, edges=[[0, 1, 2], [0, 1, 3], [1, 2, 3]])\n",
    "\n",
    "# Note automorphism doesn't matter\n",
    "other_cherry = G(3, edges=[[0, 1], [1, 2]])\n",
    "print(\"Is cherry the same as other cherry? \", cherry==other_cherry)\n",
    "\n",
    "# Flags can be printed\n",
    "print(\"Triangle flag is: \", triangle)\n",
    "\n",
    "# If a relation is not included, it is assumed to be empty\n",
    "test = G(3)\n",
    "print(\"The test flag is \", test)"
   ]
  },
  {
   "cell_type": "code",
   "execution_count": 4,
   "id": "a19c1502-cbef-4d35-9611-466fb98d1465",
   "metadata": {},
   "outputs": [
    {
     "name": "stdout",
     "output_type": "stream",
     "text": [
      "Base flags generated, their number is 3\n",
      "The relevant ftypes are constructed, their number is 1\n",
      "Block sizes before symmetric/asymmetric change is applied: [2]\n"
     ]
    },
    {
     "name": "stderr",
     "output_type": "stream",
     "text": [
      "Done with mult table for Ftype on 1 points with edges=(): : 1it [00:00, 788.40it/s]\n"
     ]
    },
    {
     "name": "stdout",
     "output_type": "stream",
     "text": [
      "Tables finished\n",
      "Constraints finished\n",
      "Running sdp without construction. Used block sizes are [2, -3, -2]\n",
      "CSDP 6.2.0\n",
      "Iter:  0 Ap: 0.00e+00 Pobj:  0.0000000e+00 Ad: 0.00e+00 Dobj:  0.0000000e+00 \n",
      "Iter:  1 Ap: 1.00e+00 Pobj: -1.5751371e+01 Ad: 7.93e-01 Dobj: -1.8596991e-01 \n",
      "Iter:  2 Ap: 1.00e+00 Pobj: -1.3829292e+01 Ad: 9.44e-01 Dobj: -2.5639371e-01 \n",
      "Iter:  3 Ap: 1.00e+00 Pobj: -3.6548572e+00 Ad: 9.22e-01 Dobj: -2.8097530e-01 \n",
      "Iter:  4 Ap: 1.00e+00 Pobj: -6.7102979e-01 Ad: 8.42e-01 Dobj: -3.1080769e-01 \n",
      "Iter:  5 Ap: 1.00e+00 Pobj: -5.8576247e-01 Ad: 8.44e-01 Dobj: -4.8002387e-01 \n",
      "Iter:  6 Ap: 1.00e+00 Pobj: -5.0647721e-01 Ad: 8.85e-01 Dobj: -4.9296240e-01 \n",
      "Iter:  7 Ap: 1.00e+00 Pobj: -5.0060022e-01 Ad: 9.41e-01 Dobj: -4.9923793e-01 \n",
      "Iter:  8 Ap: 1.00e+00 Pobj: -5.0005080e-01 Ad: 1.00e+00 Dobj: -4.9996691e-01 \n",
      "Iter:  9 Ap: 1.00e+00 Pobj: -5.0000234e-01 Ad: 1.00e+00 Dobj: -4.9999913e-01 \n",
      "Iter: 10 Ap: 1.00e+00 Pobj: -5.0000016e-01 Ad: 1.00e+00 Dobj: -5.0000000e-01 \n",
      "Iter: 11 Ap: 9.58e-01 Pobj: -5.0000001e-01 Ad: 9.70e-01 Dobj: -5.0000000e-01 \n",
      "Success: SDP solved\n",
      "Primal objective value: -5.0000001e-01 \n",
      "Dual objective value: -5.0000000e-01 \n",
      "Relative primal infeasibility: 4.18e-16 \n",
      "Relative dual infeasibility: 3.98e-09 \n",
      "Real Relative Gap: 2.49e-09 \n",
      "XZ Relative Gap: 9.08e-09 \n",
      "DIMACS error measures: 4.38e-16 0.00e+00 8.28e-09 0.00e+00 2.49e-09 9.08e-09\n"
     ]
    },
    {
     "data": {
      "text/plain": [
       "0.5000000069458577"
      ]
     },
     "execution_count": 4,
     "metadata": {},
     "output_type": "execute_result"
    }
   ],
   "source": [
    "###\n",
    "### Everything is induced\n",
    "###\n",
    "\n",
    "# Note that everything is induced. Mantel's theorem can be checked with the complements\n",
    "\n",
    "G.reset()\n",
    "G.exclude(G(3))\n",
    "G.optimize(G(2), 3)"
   ]
  },
  {
   "cell_type": "code",
   "execution_count": 5,
   "id": "9893cc17-27d3-49ee-b729-118f6cc83354",
   "metadata": {},
   "outputs": [
    {
     "data": {
      "text/plain": [
       "(Flag Algebra Element over Rational Field\n",
       " 1 - Flag on 3 points, ftype from () with edges=()\n",
       " 0 - Flag on 3 points, ftype from () with edges=(01)\n",
       " 1 - Flag on 3 points, ftype from () with edges=(01 02)\n",
       " 0 - Flag on 3 points, ftype from () with edges=(01 02 12),\n",
       " Flag Algebra Element over Rational Field\n",
       " 1   - Flag on 4 points, ftype from () with edges=()\n",
       " 2/3 - Flag on 4 points, ftype from () with edges=(01)\n",
       " 1/3 - Flag on 4 points, ftype from () with edges=(01 03)\n",
       " 2/3 - Flag on 4 points, ftype from () with edges=(02 13)\n",
       " 1/3 - Flag on 4 points, ftype from () with edges=(01 02 13)\n",
       " 1/3 - Flag on 4 points, ftype from () with edges=(02 03 12 13))"
      ]
     },
     "execution_count": 5,
     "metadata": {},
     "output_type": "execute_result"
    }
   ],
   "source": [
    "###\n",
    "### Operations with flags\n",
    "###\n",
    "\n",
    "\n",
    "G.reset()\n",
    "empty3 = G(3)\n",
    "# Addition, Multiplication\n",
    "empty3 + cherry, G(2)*G(2)"
   ]
  },
  {
   "cell_type": "code",
   "execution_count": 6,
   "id": "0f4b29d7-6e5a-486c-b87b-cbf4f9dcd636",
   "metadata": {},
   "outputs": [
    {
     "data": {
      "text/plain": [
       "Flag Algebra Element over Rational Field\n",
       "0   - Flag on 3 points, ftype from () with edges=()\n",
       "1/3 - Flag on 3 points, ftype from () with edges=(01)\n",
       "2/3 - Flag on 3 points, ftype from () with edges=(01 02)\n",
       "1   - Flag on 3 points, ftype from () with edges=(01 02 12)"
      ]
     },
     "execution_count": 6,
     "metadata": {},
     "output_type": "execute_result"
    }
   ],
   "source": [
    "# Chain rule, increase size by 1\n",
    "k2 = G(2, edges=[[0, 1]])\n",
    "# Increase size with << operator\n",
    "k2 << 1"
   ]
  },
  {
   "cell_type": "code",
   "execution_count": 7,
   "id": "c37ef1f5-4be3-43e0-96d5-706c00833f77",
   "metadata": {},
   "outputs": [
    {
     "data": {
      "text/plain": [
       "Flag on 2 points, ftype from (0,) with edges=(01)"
      ]
     },
     "execution_count": 7,
     "metadata": {},
     "output_type": "execute_result"
    }
   ],
   "source": [
    "###\n",
    "### Types\n",
    "###\n",
    "\n",
    "# Add ftype=[] list of points to define the marked vertices, when creating a flag\n",
    "pointed_edge = G(2, edges=[[0, 1]], ftype=[0])\n",
    "pointed_edge"
   ]
  },
  {
   "cell_type": "code",
   "execution_count": 8,
   "id": "35d47c34-9758-4fb7-9296-673703ca56f8",
   "metadata": {},
   "outputs": [
    {
     "data": {
      "text/plain": [
       "(True, False, False)"
      ]
     },
     "execution_count": 8,
     "metadata": {},
     "output_type": "execute_result"
    }
   ],
   "source": [
    "# Types must map to types (with the same order)\n",
    "\n",
    "fl0 = G(3, edges=[[0, 1]], ftype=[0])\n",
    "fl1 = G(3, edges=[[0, 1]], ftype=[1])\n",
    "fl2 = G(3, edges=[[0, 1]], ftype=[2])\n",
    "fl0==fl1, fl0==fl2, fl1==fl2"
   ]
  },
  {
   "cell_type": "code",
   "execution_count": 9,
   "id": "cd8afb21-1df5-4482-8be6-059df12cba6e",
   "metadata": {},
   "outputs": [
    {
     "name": "stdout",
     "output_type": "stream",
     "text": [
      "Flag Algebra Element over Rational Field\n",
      "0   - Flag on 3 points, ftype from (0,) with edges=()\n",
      "1/2 - Flag on 3 points, ftype from (0,) with edges=(01)\n",
      "0   - Flag on 3 points, ftype from (2,) with edges=(01)\n",
      "2   - Flag on 3 points, ftype from (0,) with edges=(01 02)\n",
      "1/2 - Flag on 3 points, ftype from (1,) with edges=(01 02)\n",
      "1   - Flag on 3 points, ftype from (0,) with edges=(01 02 12)\n",
      "Flag Algebra Element over Rational Field\n",
      "0 - Flag on 3 points, ftype from (0,) with edges=()\n",
      "0 - Flag on 3 points, ftype from (0,) with edges=(01)\n",
      "0 - Flag on 3 points, ftype from (2,) with edges=(01)\n",
      "1 - Flag on 3 points, ftype from (0,) with edges=(01 02)\n",
      "0 - Flag on 3 points, ftype from (1,) with edges=(01 02)\n",
      "1 - Flag on 3 points, ftype from (0,) with edges=(01 02 12)\n"
     ]
    }
   ],
   "source": [
    "# Operations still work\n",
    "pointed_cherry = G(3, edges=[[0, 1], [1, 2]], ftype=[1])\n",
    "print(pointed_edge + pointed_cherry)\n",
    "print(pointed_edge*pointed_edge)"
   ]
  },
  {
   "cell_type": "code",
   "execution_count": 10,
   "id": "d3b0ed9c-69c0-46e9-965e-b5f6831af09a",
   "metadata": {},
   "outputs": [
    {
     "data": {
      "text/plain": [
       "Flag Algebra Element over Rational Field\n",
       "0   - Flag on 3 points, ftype from () with edges=()\n",
       "0   - Flag on 3 points, ftype from () with edges=(01)\n",
       "1/3 - Flag on 3 points, ftype from () with edges=(01 02)\n",
       "0   - Flag on 3 points, ftype from () with edges=(01 02 12)"
      ]
     },
     "execution_count": 10,
     "metadata": {},
     "output_type": "execute_result"
    }
   ],
   "source": [
    "# The averaging operator, called project here\n",
    "pointed_cherry.project()"
   ]
  },
  {
   "cell_type": "code",
   "execution_count": 11,
   "id": "c9ae6813-815b-416d-a11d-0c99cba78393",
   "metadata": {},
   "outputs": [
    {
     "data": {
      "text/plain": [
       "Ftype on 2 points with edges=(01)"
      ]
     },
     "execution_count": 11,
     "metadata": {},
     "output_type": "execute_result"
    }
   ],
   "source": [
    "# To create a type, simply create a flag with all vertices marked as type\n",
    "edgetype = G(2, edges=[[0, 1]], ftype=[0, 1])\n",
    "edgetype"
   ]
  },
  {
   "cell_type": "code",
   "execution_count": 12,
   "id": "f2f4795c-c0ea-4467-a4d4-f103f9a4292c",
   "metadata": {},
   "outputs": [
    {
     "data": {
      "text/plain": [
       "[Flag on 3 points, ftype from () with edges=(01),\n",
       " Flag on 3 points, ftype from () with edges=(01 02),\n",
       " Flag on 3 points, ftype from () with edges=(01 02 12)]"
      ]
     },
     "execution_count": 12,
     "metadata": {},
     "output_type": "execute_result"
    }
   ],
   "source": [
    "###\n",
    "### Patterns\n",
    "###\n",
    "\n",
    "# A pattern is a non-induced flag. Every relation is optional, unless stated otherwise.\n",
    "\n",
    "# This induced graph has 3 points and an edge.\n",
    "edge3 = G(3, edges=[[0, 1]])\n",
    "# This pattern is the same, but non-induced.\n",
    "pat3 = G.pattern(3, edges=[[0, 1]])\n",
    "\n",
    "# To see the list of induced flags compatible with this patter, call\n",
    "pat3.compatible_flags()"
   ]
  },
  {
   "cell_type": "code",
   "execution_count": 13,
   "id": "a3f69265-c186-4d4d-9e02-b723a4ffc2d2",
   "metadata": {},
   "outputs": [
    {
     "data": {
      "text/plain": [
       "[Flag on 3 points, ftype from () with edges=(01),\n",
       " Flag on 3 points, ftype from () with edges=(01 02)]"
      ]
     },
     "execution_count": 13,
     "metadata": {},
     "output_type": "execute_result"
    }
   ],
   "source": [
    "# A pattern can have strictly missing relations too. We can specify by listing them with the _missing or _m suffix\n",
    "\n",
    "# This pattern on 3 points must have one edge present and one edge missing\n",
    "mpat3 = G.pattern(3, edges=[[0, 1]], edges_missing=[[1, 2]])\n",
    "mpat3.compatible_flags()"
   ]
  },
  {
   "cell_type": "code",
   "execution_count": 14,
   "id": "dcc4c945-9709-44c6-a7db-1274f1b6d0fe",
   "metadata": {},
   "outputs": [
    {
     "data": {
      "text/plain": [
       "Flag Algebra Element over Rational Field\n",
       "0   - Flag on 3 points, ftype from () with edges=()\n",
       "4/3 - Flag on 3 points, ftype from () with edges=(01)\n",
       "5/3 - Flag on 3 points, ftype from () with edges=(01 02)\n",
       "1   - Flag on 3 points, ftype from () with edges=(01 02 12)"
      ]
     },
     "execution_count": 14,
     "metadata": {},
     "output_type": "execute_result"
    }
   ],
   "source": [
    "# When a pattern is used in an expression, it is just converted to the sum of it's elements\n",
    "\n",
    "edge + mpat3"
   ]
  },
  {
   "cell_type": "code",
   "execution_count": 15,
   "id": "98438562-8de7-4cc5-b67f-94496d9a1a27",
   "metadata": {},
   "outputs": [
    {
     "data": {
      "text/plain": [
       "[Flag on 5 points, ftype from () with edges=(01 04 14),\n",
       " Flag on 5 points, ftype from () with edges=(01 03 04 14),\n",
       " Flag on 5 points, ftype from () with edges=(01 02 03 04 14),\n",
       " Flag on 5 points, ftype from () with edges=(01 03 04 12 14),\n",
       " Flag on 5 points, ftype from () with edges=(01 02 04 12 14),\n",
       " Flag on 5 points, ftype from () with edges=(01 02 03 04 12 14),\n",
       " Flag on 5 points, ftype from () with edges=(01 02 03 04 12 13 14)]"
      ]
     },
     "execution_count": 15,
     "metadata": {},
     "output_type": "execute_result"
    }
   ],
   "source": [
    "# Patterns can be created with the shorted .p\n",
    "# Also instead of adding _missing, it is enough to add _m\n",
    "G.reset()\n",
    "# 5 points, has a triangle and a missing triangle.\n",
    "test = G.p(5, edges=[[0, 1], [1, 2], [0, 2]], edges_m=[[2, 3], [3, 4], [2, 4]])\n",
    "test.compatible_flags()"
   ]
  },
  {
   "cell_type": "markdown",
   "id": "1857a500-de28-4618-aac7-0299cada29b5",
   "metadata": {},
   "source": [
    "Theories\n",
    "========\n",
    "\n",
    "1. Already present theories\n",
    "4. Creating new theories\n",
    "2. Excluding things\n",
    "3. Generating things\n",
    "5. Combining theories"
   ]
  },
  {
   "cell_type": "code",
   "execution_count": 16,
   "id": "208e31ba-c06d-46c0-9a9c-b963a4f0bc2c",
   "metadata": {},
   "outputs": [],
   "source": [
    "###\n",
    "### Already present theories\n",
    "###\n",
    "\n",
    "# The following theories are already created, the names are self explanatory\n",
    "\n",
    "GraphTheory = Theory(\"Graph\")\n",
    "DiGraphTheory = Theory(\"DiGraph\", arity=2, is_ordered=True)\n",
    "ThreeGraphTheory = Theory(\"ThreeGraph\", arity=3)\n",
    "DiThreeGraphTheory = Theory(\"DiThreeGraph\", arity=3, is_ordered=True)\n",
    "FourGraphTheory = Theory(\"FourGraph\", arity=4)\n",
    "Color0 = Theory(\"Color0\", relation_name=\"C0\", arity=1)\n",
    "Color1 = Theory(\"Color1\", relation_name=\"C1\", arity=1)\n",
    "Color2 = Theory(\"Color2\", relation_name=\"C2\", arity=1)\n",
    "Color3 = Theory(\"Color3\", relation_name=\"C3\", arity=1)\n",
    "Color4 = Theory(\"Color4\", relation_name=\"C4\", arity=1)\n",
    "Color5 = Theory(\"Color5\", relation_name=\"C5\", arity=1)\n",
    "Color6 = Theory(\"Color6\", relation_name=\"C6\", arity=1)\n",
    "Color7 = Theory(\"Color7\", relation_name=\"C7\", arity=1)"
   ]
  },
  {
   "cell_type": "code",
   "execution_count": 17,
   "id": "4d2d8a1d-3292-43f0-b76b-5e7ea30ac9de",
   "metadata": {},
   "outputs": [
    {
     "name": "stdout",
     "output_type": "stream",
     "text": [
      "(Flag on 3 points, ftype from () with edge3=(), Flag on 3 points, ftype from () with edge3=(012))\n"
     ]
    },
    {
     "data": {
      "text/plain": [
       "Flag on 4 points, ftype from () with edge3=(012 023 123)"
      ]
     },
     "execution_count": 17,
     "metadata": {},
     "output_type": "execute_result"
    }
   ],
   "source": [
    "###\n",
    "### Creating new theories\n",
    "###\n",
    "\n",
    "# One can create a new theory using the command:\n",
    "# Theory([\"name_for_the_theory\"], relation_name=[\"name_for_the_relation\"], arity=[arity_of_relation], is_ordered=[is_relation_ordered])\n",
    "\n",
    "# The default values are: relation_name=\"edges\", arity=2, is_orderd=False\n",
    "# Here are a few examples\n",
    "\n",
    "OtherDiGraphTheory = Theory(\"OtherDiGraph\", arity=2, is_ordered=True, relation_name=\"diedge\")\n",
    "OtherThreeGraphTheory = Theory(\"OtherThreeGraph\", arity=3, relation_name=\"edge3\")\n",
    "\n",
    "# The elements in the new theory has relations named accordingly\n",
    "print(OtherThreeGraphTheory.generate(3))\n",
    "\n",
    "# And creating elements must also follow the convention\n",
    "k4m = OtherThreeGraphTheory(4, edge3=[[0, 1, 2], [1, 2, 3], [0, 2, 3]])\n",
    "k4m"
   ]
  },
  {
   "cell_type": "code",
   "execution_count": 18,
   "id": "8849dbbf-161a-42c2-9095-76c019e1141f",
   "metadata": {},
   "outputs": [],
   "source": [
    "###\n",
    "### Excluding things\n",
    "###\n",
    "\n",
    "# To reset a theory, so nothing is excluded, call\n",
    "G.reset()\n",
    "\n",
    "# A list of flags can be excluded\n",
    "structure_1 = G(4, edges=[[0, 1], [0, 2], [0, 3], [1, 2]])\n",
    "structure_2 = G(3, edges=[[0, 1], [0, 2]])\n",
    "G.exclude([structure_1, structure_2])\n",
    "\n",
    "# Exclude works incrementally, the following works too\n",
    "G.reset()\n",
    "G.exclude(structure_1)\n",
    "G.exclude(structure_2)\n",
    "\n",
    "# Excluding also allows patterns, \n",
    "G.reset()\n",
    "G.exclude(G.p(4, edges=[[0, 1], [1, 2], [2, 3], [0, 2]]))"
   ]
  },
  {
   "cell_type": "code",
   "execution_count": 19,
   "id": "384b5ad6-e856-46b3-a6f4-0d5308f62eb4",
   "metadata": {},
   "outputs": [
    {
     "data": {
      "text/plain": [
       "(Flag on 4 points, ftype from () with edges=(),\n",
       " Flag on 4 points, ftype from () with edges=(01),\n",
       " Flag on 4 points, ftype from () with edges=(01 03),\n",
       " Flag on 4 points, ftype from () with edges=(02 13),\n",
       " Flag on 4 points, ftype from () with edges=(01 02 03),\n",
       " Flag on 4 points, ftype from () with edges=(01 03 13),\n",
       " Flag on 4 points, ftype from () with edges=(01 02 13),\n",
       " Flag on 4 points, ftype from () with edges=(02 03 12 13))"
      ]
     },
     "execution_count": 19,
     "metadata": {},
     "output_type": "execute_result"
    }
   ],
   "source": [
    "###\n",
    "### Generating flags\n",
    "###\n",
    "\n",
    "# To generate all flags (respecting the excluded structures, see the above cell)\n",
    "G.generate(4)"
   ]
  },
  {
   "cell_type": "code",
   "execution_count": 20,
   "id": "4ca23a2c-7578-458d-bdb6-ccfbfe875d8d",
   "metadata": {},
   "outputs": [
    {
     "data": {
      "text/plain": [
       "(Flag on 4 points, ftype from (0, 1) with edges=(01),\n",
       " Flag on 4 points, ftype from (0, 1) with edges=(01 03),\n",
       " Flag on 4 points, ftype from (1, 0) with edges=(01 03),\n",
       " Flag on 4 points, ftype from (0, 2) with edges=(02 13),\n",
       " Flag on 4 points, ftype from (0, 1) with edges=(01 02 03),\n",
       " Flag on 4 points, ftype from (1, 0) with edges=(01 02 03),\n",
       " Flag on 4 points, ftype from (0, 1) with edges=(01 03 13),\n",
       " Flag on 4 points, ftype from (0, 1) with edges=(01 02 13),\n",
       " Flag on 4 points, ftype from (0, 2) with edges=(01 02 13),\n",
       " Flag on 4 points, ftype from (2, 0) with edges=(01 02 13),\n",
       " Flag on 4 points, ftype from (0, 1) with edges=(01 02 03 13),\n",
       " Flag on 4 points, ftype from (0, 2) with edges=(01 02 03 13),\n",
       " Flag on 4 points, ftype from (1, 0) with edges=(01 02 03 13),\n",
       " Flag on 4 points, ftype from (1, 3) with edges=(01 02 03 13),\n",
       " Flag on 4 points, ftype from (2, 0) with edges=(01 02 03 13),\n",
       " Flag on 4 points, ftype from (0, 2) with edges=(02 03 12 13),\n",
       " Flag on 4 points, ftype from (0, 1) with edges=(01 02 03 12 13),\n",
       " Flag on 4 points, ftype from (0, 2) with edges=(01 02 03 12 13),\n",
       " Flag on 4 points, ftype from (2, 0) with edges=(01 02 03 12 13),\n",
       " Flag on 4 points, ftype from (0, 1) with edges=(01 02 03 12 13 23))"
      ]
     },
     "execution_count": 20,
     "metadata": {},
     "output_type": "execute_result"
    }
   ],
   "source": [
    "# It is also possible to generate all flags with a given type\n",
    "edgetype = G(2, edges=[[0, 1]], ftype=[0, 1])\n",
    "G.reset()\n",
    "G.generate(4, edgetype)"
   ]
  },
  {
   "cell_type": "code",
   "execution_count": 21,
   "id": "011bc895-a8e7-4be4-a792-914e91752de9",
   "metadata": {},
   "outputs": [
    {
     "data": {
      "text/plain": [
       "(Flag on 3 points, ftype from () with edges=(), edges3=(),\n",
       " Flag on 3 points, ftype from () with edges=(), edges3=(012),\n",
       " Flag on 3 points, ftype from () with edges=(01), edges3=(),\n",
       " Flag on 3 points, ftype from () with edges=(01), edges3=(012),\n",
       " Flag on 3 points, ftype from () with edges=(01 02), edges3=(),\n",
       " Flag on 3 points, ftype from () with edges=(01 02), edges3=(012),\n",
       " Flag on 3 points, ftype from () with edges=(01 02 12), edges3=(),\n",
       " Flag on 3 points, ftype from () with edges=(01 02 12), edges3=(012))"
      ]
     },
     "execution_count": 21,
     "metadata": {},
     "output_type": "execute_result"
    }
   ],
   "source": [
    "# To create complex theories, it is possible to combine them.\n",
    "\n",
    "# For this to work, the theories must have different relation_name-s\n",
    "\n",
    "# We can't combine GraphTheory and ThreeGraphTheory since they both use the \"edges\" relation\n",
    "# So let's create an alternative ThreeGraphTheory using edges3 relation\n",
    "\n",
    "TG = Theory(\"OtherThreeGraph\", arity=3, relation_name=\"edges3\")\n",
    "\n",
    "# Then we can combine the theories\n",
    "# First a name is needed, then the list of theories\n",
    "CombinedTheory = combine(\"TwoThreeGraph\", G, TG)\n",
    "\n",
    "# See the structures\n",
    "CombinedTheory.generate(3)"
   ]
  },
  {
   "cell_type": "code",
   "execution_count": 22,
   "id": "dac44a0a-d8e9-4547-ba7e-04cd4acf647e",
   "metadata": {},
   "outputs": [
    {
     "data": {
      "text/plain": [
       "(Flag on 4 points, ftype from () with edges=(), edges3=(),\n",
       " Flag on 4 points, ftype from () with edges=(), edges3=(012),\n",
       " Flag on 4 points, ftype from () with edges=(), edges3=(012 013),\n",
       " Flag on 4 points, ftype from () with edges=(), edges3=(012 013 023),\n",
       " Flag on 4 points, ftype from () with edges=(), edges3=(012 013 023 123),\n",
       " Flag on 4 points, ftype from () with edges=(01), edges3=(),\n",
       " Flag on 4 points, ftype from () with edges=(01), edges3=(023),\n",
       " Flag on 4 points, ftype from () with edges=(01), edges3=(023 123),\n",
       " Flag on 4 points, ftype from () with edges=(01), edges3=(012 023 123),\n",
       " Flag on 4 points, ftype from () with edges=(01), edges3=(012 013 023 123),\n",
       " Flag on 4 points, ftype from () with edges=(01 03), edges3=(),\n",
       " Flag on 4 points, ftype from () with edges=(02 13), edges3=(),\n",
       " Flag on 4 points, ftype from () with edges=(01 03), edges3=(123),\n",
       " Flag on 4 points, ftype from () with edges=(01 03), edges3=(012 023 123),\n",
       " Flag on 4 points, ftype from () with edges=(02 13), edges3=(012 013 023 123),\n",
       " Flag on 4 points, ftype from () with edges=(01 02 03), edges3=(),\n",
       " Flag on 4 points, ftype from () with edges=(01 03 13), edges3=(),\n",
       " Flag on 4 points, ftype from () with edges=(01 02 13), edges3=(),\n",
       " Flag on 4 points, ftype from () with edges=(01 02 03), edges3=(123),\n",
       " Flag on 4 points, ftype from () with edges=(01 03 13), edges3=(013),\n",
       " Flag on 4 points, ftype from () with edges=(01 03 13), edges3=(012 023 123),\n",
       " Flag on 4 points, ftype from () with edges=(01 03 13), edges3=(012 013 023 123),\n",
       " Flag on 4 points, ftype from () with edges=(01 02 03 13), edges3=(),\n",
       " Flag on 4 points, ftype from () with edges=(02 03 12 13), edges3=(),\n",
       " Flag on 4 points, ftype from () with edges=(01 02 03 13), edges3=(013),\n",
       " Flag on 4 points, ftype from () with edges=(01 02 03 12 13), edges3=(),\n",
       " Flag on 4 points, ftype from () with edges=(01 02 03 12 13), edges3=(012),\n",
       " Flag on 4 points, ftype from () with edges=(01 02 03 12 13), edges3=(012 013),\n",
       " Flag on 4 points, ftype from () with edges=(01 02 03 12 13 23), edges3=(),\n",
       " Flag on 4 points, ftype from () with edges=(01 02 03 12 13 23), edges3=(012),\n",
       " Flag on 4 points, ftype from () with edges=(01 02 03 12 13 23), edges3=(012 013),\n",
       " Flag on 4 points, ftype from () with edges=(01 02 03 12 13 23), edges3=(012 013 023),\n",
       " Flag on 4 points, ftype from () with edges=(01 02 03 12 13 23), edges3=(012 013 023 123))"
      ]
     },
     "execution_count": 22,
     "metadata": {},
     "output_type": "execute_result"
    }
   ],
   "source": [
    "# For combined theories, we can create flags by specifying the relations separately\n",
    "test_flag = CombinedTheory(3, edges=[[0, 1], [0, 2]], edges3=[[0, 1, 2]])\n",
    "\n",
    "# Patterns work too\n",
    "test_pattern = CombinedTheory.p(4, edges=[[0, 1]], edges_m=[[1, 2]], edges3=[[0, 1, 2]], edges3_m=[[1, 2, 3]])\n",
    "\n",
    "# See what happens if we exclude these\n",
    "CombinedTheory.exclude([test_flag, test_pattern])\n",
    "CombinedTheory.generate(4)"
   ]
  },
  {
   "cell_type": "code",
   "execution_count": 23,
   "id": "ad5027ed-df99-4f6e-a035-04b49f54b727",
   "metadata": {},
   "outputs": [
    {
     "name": "stdout",
     "output_type": "stream",
     "text": [
      "Without symmetry, we have the structures: \n",
      "Flag on 2 points, ftype from () with edges=(), oedges=()\n",
      "Flag on 2 points, ftype from () with edges=(), oedges=(01)\n",
      "Flag on 2 points, ftype from () with edges=(01), oedges=()\n",
      "Flag on 2 points, ftype from () with edges=(01), oedges=(01)\n",
      "\n",
      "\n",
      "With symmetry, we have the structures: \n",
      "Flag on 2 points, ftype from () with edges=(), oedges=()\n",
      "Flag on 2 points, ftype from () with edges=(), oedges=(01)\n",
      "Flag on 2 points, ftype from () with edges=(01), oedges=(01)\n"
     ]
    }
   ],
   "source": [
    "# If the relations combined have the same arity, all ordered or all unordered\n",
    "# Then a symmetry can be specified\n",
    "\n",
    "Gp = Theory(\"OtherGraph\", relation_name=\"oedges\")\n",
    "\n",
    "# By default there is no symmetry. If we omit symmetries, then no symmetry is assumed\n",
    "Test1 = combine(\"DoubleEdgeGraph\", G, Gp, symmetries=NoSymmetry)\n",
    "Test2 = combine(\"SymmetricDoubleEdgeGraph\", G, Gp, symmetries=FullSymmetry)\n",
    "\n",
    "\n",
    "print(\"Without symmetry, we have the structures: \")\n",
    "print(\"\\n\".join(map(str, Test1.generate(2))))\n",
    "print(\"\\n\\nWith symmetry, we have the structures: \")\n",
    "print(\"\\n\".join(map(str, Test2.generate(2))))\n",
    "# Note that as the edges and other edges are identical in the second case, \n",
    "# the flag with only one of these present is included only once"
   ]
  },
  {
   "cell_type": "code",
   "execution_count": 24,
   "id": "fc7d27e3-35e5-446b-957f-cba155707eb2",
   "metadata": {},
   "outputs": [
    {
     "data": {
      "text/plain": [
       "Theory for Cyclic5ColoredGraphs"
      ]
     },
     "execution_count": 24,
     "metadata": {},
     "output_type": "execute_result"
    }
   ],
   "source": [
    "# For colors, there are pre-defined theories with different names.\n",
    "# There are also pre-defined symmetry groups.\n",
    "\n",
    "Cyclic5Colors = combine(\"Cyclic5Colors\", Color0, Color1, Color2, Color3, Color4, Color5, symmetries=CyclicSymmetry(5))\n",
    "\n",
    "# There is also a symmetry for the k4m colors\n",
    "NoK4mColors = combine(\"NoK4mColors\", Color0, Color1, Color2, Color3, Color4, Color5, Color6, symmetries=K4mSymmetry)\n",
    "\n",
    "# Then, these can be combined with other theories.\n",
    "combine(\"Cyclic5ColoredGraphs\", G, Cyclic5Colors)"
   ]
  },
  {
   "cell_type": "code",
   "execution_count": 25,
   "id": "1d6374cf-638a-470a-8f7f-77531ae48fdb",
   "metadata": {},
   "outputs": [
    {
     "data": {
      "text/plain": [
       "(Flag on 3 points, ftype from () with C0=(), C1=(), C2=(0 1 2), edges=(01),\n",
       " Flag on 3 points, ftype from () with C0=(), C1=(), C2=(0 1 2), edges=(01 02),\n",
       " Flag on 3 points, ftype from () with C0=(), C1=(), C2=(0 1 2), edges=(01 02 12),\n",
       " Flag on 3 points, ftype from () with C0=(), C1=(0), C2=(1 2), edges=(01),\n",
       " Flag on 3 points, ftype from () with C0=(0), C1=(), C2=(1 2), edges=(01),\n",
       " Flag on 3 points, ftype from () with C0=(), C1=(0), C2=(1 2), edges=(12),\n",
       " Flag on 3 points, ftype from () with C0=(0), C1=(), C2=(1 2), edges=(12),\n",
       " Flag on 3 points, ftype from () with C0=(), C1=(0), C2=(1 2), edges=(01 02),\n",
       " Flag on 3 points, ftype from () with C0=(0), C1=(), C2=(1 2), edges=(01 02),\n",
       " Flag on 3 points, ftype from () with C0=(), C1=(0), C2=(1 2), edges=(01 12),\n",
       " Flag on 3 points, ftype from () with C0=(0), C1=(), C2=(1 2), edges=(01 12),\n",
       " Flag on 3 points, ftype from () with C0=(), C1=(0), C2=(1 2), edges=(01 02 12),\n",
       " Flag on 3 points, ftype from () with C0=(0), C1=(), C2=(1 2), edges=(01 02 12),\n",
       " Flag on 3 points, ftype from () with C0=(0), C1=(1), C2=(2), edges=(01),\n",
       " Flag on 3 points, ftype from () with C0=(0), C1=(1), C2=(2), edges=(01 02),\n",
       " Flag on 3 points, ftype from () with C0=(0), C1=(1), C2=(2), edges=(01 02 12))"
      ]
     },
     "execution_count": 25,
     "metadata": {},
     "output_type": "execute_result"
    }
   ],
   "source": [
    "# Altough the exclusion can happen in the combined theories, \n",
    "# it is also possible to exclude before combining. \n",
    "# In that case, the exclusions at the moment they are combined are used.\n",
    "\n",
    "# Here is an example where Colors are combined, but they are forced to be disjoint first\n",
    "Cyclic3Colors = combine(\"Cyclic3Colors\", Color0, Color1, Color2, symmetries=CyclicSymmetry(3))\n",
    "# This guarantees the colors are disjoint (due to the symmetry)\n",
    "Cyclic3Colors.exclude([\n",
    "    Cyclic3Colors(1), \n",
    "    Cyclic3Colors.p(1, C0=[0], C1=[0])\n",
    "])\n",
    "\n",
    "# Make graphs without empty triples\n",
    "G.exclude(G(3))\n",
    "\n",
    "Cyclic3ColGraph = combine(\"Cyclic3Graph\", Cyclic3Colors, G)\n",
    "# So the resulting theory uses disjoint colors and has no empty graphs\n",
    "Cyclic3ColGraph.generate(3)\n",
    "\n",
    "# Note the changing the excluded structures in a component will change the\n",
    "# excluded structures in the result too, even after the combination.\n",
    "\n",
    "# Running the below would give a different result as above.\n",
    "# G.reset()\n",
    "# Cyclic3ColGraph.generate(3)"
   ]
  },
  {
   "cell_type": "code",
   "execution_count": 26,
   "id": "ccd5c66e-aedf-4433-882b-38978fa2cd35",
   "metadata": {},
   "outputs": [
    {
     "data": {
      "text/plain": [
       "Theory for Cyclic3ColorsOther"
      ]
     },
     "execution_count": 26,
     "metadata": {},
     "output_type": "execute_result"
    }
   ],
   "source": [
    "# To specify any symmetry, we can provide a symmetry graph\n",
    "\n",
    "# For this example, I will just recreate the cyclic 3 symmetry.\n",
    "# To provide cyclic 3 symmetry, we need a graph, where supposing that the first 3 vertices\n",
    "# are mapped to the first 3 vertices, the automorphism group of those 3 vertices is C3\n",
    "\n",
    "# The graph with the following edge set works:\n",
    "Cyclic3 = [[0, 1], [0, 3],[0, 6],\n",
    "           [3, 7], [0, 7], [1, 2],\n",
    "           [1, 4], [1, 7], [4, 8],\n",
    "           [1, 8], [2, 0], [2, 5],\n",
    "           [2, 8], [5, 6], [2, 6]]\n",
    "\n",
    "# Therefore it is possible to use it in later inputs\n",
    "combine(\"Cyclic3ColorsOther\", Color0, Color1, Color2, symmetries=Cyclic3)"
   ]
  },
  {
   "cell_type": "markdown",
   "id": "b1176d4e-4a1a-4510-a2a1-03957264571a",
   "metadata": {},
   "source": [
    "Optimizing\n",
    "==========\n",
    "1. Assumptions\n",
    "2. Rounding\n",
    "3. Construction\n",
    "4. Certificates\n",
    "6. Exporting the SDP problem\n",
    "8. Rounding over field extensions"
   ]
  },
  {
   "cell_type": "code",
   "execution_count": 27,
   "id": "cb3115c7-16f4-45af-8f1b-a9e7a3b2884d",
   "metadata": {},
   "outputs": [
    {
     "name": "stdout",
     "output_type": "stream",
     "text": [
      "Base flags generated, their number is 3\n",
      "The relevant ftypes are constructed, their number is 1\n",
      "Block sizes before symmetric/asymmetric change is applied: [2]\n"
     ]
    },
    {
     "name": "stderr",
     "output_type": "stream",
     "text": [
      "Done with mult table for Ftype on 1 points with edges=(): : 1it [00:00, 664.50it/s]"
     ]
    },
    {
     "name": "stdout",
     "output_type": "stream",
     "text": [
      "Tables finished\n",
      "Constraints finished\n",
      "Running sdp without construction. Used block sizes are [2, -3, -2]\n",
      "CSDP 6.2.0\n",
      "Iter:  0 Ap: 0.00e+00 Pobj:  0.0000000e+00 Ad: 0.00e+00 Dobj:  0.0000000e+00 \n",
      "Iter:  1 Ap: 1.00e+00 Pobj: -1.5751371e+01 Ad: 7.93e-01 Dobj: -1.8596991e-01 \n",
      "Iter:  2 Ap: 1.00e+00 Pobj: -1.3829292e+01 Ad: 9.44e-01 Dobj: -2.5639377e-01 \n",
      "Iter:  3 Ap: 1.00e+00 Pobj: -3.6548137e+00 Ad: 9.22e-01 Dobj: -2.8097573e-01 \n",
      "Iter:  4 Ap: 1.00e+00 Pobj: -6.7094195e-01 Ad: 8.42e-01 Dobj: -3.1080901e-01 \n",
      "Iter:  5 Ap: 1.00e+00 Pobj: -5.8576089e-01 Ad: 8.47e-01 Dobj: -4.8072710e-01 \n",
      "Iter:  6 Ap: 1.00e+00 Pobj: -5.0662032e-01 Ad: 8.78e-01 Dobj: -4.9275677e-01 \n",
      "Iter:  7 Ap: 1.00e+00 Pobj: -5.0069959e-01 Ad: 9.33e-01 Dobj: -4.9911657e-01 \n",
      "Iter:  8 Ap: 1.00e+00 Pobj: -5.0005821e-01 Ad: 1.00e+00 Dobj: -4.9996202e-01 \n",
      "Iter:  9 Ap: 1.00e+00 Pobj: -5.0000265e-01 Ad: 1.00e+00 Dobj: -4.9999892e-01 \n",
      "Iter: 10 Ap: 1.00e+00 Pobj: -5.0000020e-01 Ad: 1.00e+00 Dobj: -4.9999999e-01 \n",
      "Iter: 11 Ap: 1.00e+00 Pobj: -5.0000001e-01 Ad: 9.90e-01 Dobj: -5.0000000e-01 \n",
      "Iter: 12 Ap: 9.57e-01 Pobj: -5.0000000e-01 Ad: 9.69e-01 Dobj: -5.0000000e-01 \n",
      "Success: SDP solved\n",
      "Primal objective value: -5.0000000e-01 \n",
      "Dual objective value: -5.0000000e-01 \n",
      "Relative primal infeasibility: 6.40e-16 \n",
      "Relative dual infeasibility: 1.18e-10 \n",
      "Real Relative Gap: 2.59e-10 \n",
      "XZ Relative Gap: 4.63e-10 \n",
      "DIMACS error measures: 6.70e-16 0.00e+00 2.46e-10 0.00e+00 2.59e-10 4.63e-10\n"
     ]
    },
    {
     "name": "stderr",
     "output_type": "stream",
     "text": [
      "\n"
     ]
    },
    {
     "data": {
      "text/plain": [
       "0.5000000004275386"
      ]
     },
     "execution_count": 27,
     "metadata": {},
     "output_type": "execute_result"
    }
   ],
   "source": [
    "# To run the optimizer, we can call the .optimize function on a theory\n",
    "\n",
    "G.reset()\n",
    "G.exclude(triangle)\n",
    "\n",
    "# The basic requirement is to have a target we optimize for, and a target size\n",
    "# By default it maximizes, here edges and target size is 3\n",
    "G.optimize(edge, 3)"
   ]
  },
  {
   "cell_type": "code",
   "execution_count": 28,
   "id": "a59aae0d-79c6-48df-a23d-480f82efea2f",
   "metadata": {},
   "outputs": [
    {
     "name": "stdout",
     "output_type": "stream",
     "text": [
      "Base flags generated, their number is 7\n",
      "The relevant ftypes are constructed, their number is 2\n",
      "Block sizes before symmetric/asymmetric change is applied: [4, 3]\n"
     ]
    },
    {
     "name": "stderr",
     "output_type": "stream",
     "text": [
      "Done with mult table for Ftype on 2 points with edges=(01): : 2it [00:00, 148.72it/s]"
     ]
    },
    {
     "name": "stdout",
     "output_type": "stream",
     "text": [
      "Tables finished\n",
      "Constraints finished\n",
      "Running sdp without construction. Used block sizes are [3, 1, 2, 1, -7, -2]\n",
      "CSDP 6.2.0\n",
      "Iter:  0 Ap: 0.00e+00 Pobj:  0.0000000e+00 Ad: 0.00e+00 Dobj:  0.0000000e+00 \n",
      "Iter:  1 Ap: 1.00e+00 Pobj: -1.8806565e+01 Ad: 7.54e-01 Dobj: -6.9981849e-02 \n",
      "Iter:  2 Ap: 1.00e+00 Pobj: -1.8408806e+01 Ad: 9.44e-01 Dobj: -5.3423421e-01 \n",
      "Iter:  3 Ap: 1.00e+00 Pobj: -8.9956342e+00 Ad: 8.73e-01 Dobj: -5.3133258e-01 \n",
      "Iter:  4 Ap: 1.00e+00 Pobj: -2.7394355e+00 Ad: 7.87e-01 Dobj: -5.3695578e-01 \n",
      "Iter:  5 Ap: 1.00e+00 Pobj: -9.4703414e-01 Ad: 8.73e-01 Dobj: -5.5895310e-01 \n",
      "Iter:  6 Ap: 1.00e+00 Pobj: -7.4536200e-01 Ad: 8.81e-01 Dobj: -6.3958028e-01 \n",
      "Iter:  7 Ap: 1.00e+00 Pobj: -6.7883373e-01 Ad: 8.58e-01 Dobj: -6.5988123e-01 \n",
      "Iter:  8 Ap: 1.00e+00 Pobj: -6.6776858e-01 Ad: 9.34e-01 Dobj: -6.6583853e-01 \n",
      "Iter:  9 Ap: 1.00e+00 Pobj: -6.6674852e-01 Ad: 9.94e-01 Dobj: -6.6663187e-01 \n",
      "Iter: 10 Ap: 9.81e-01 Pobj: -6.6667197e-01 Ad: 1.00e+00 Dobj: -6.6666778e-01 \n",
      "Iter: 11 Ap: 1.00e+00 Pobj: -6.6666696e-01 Ad: 1.00e+00 Dobj: -6.6666691e-01 \n",
      "Iter: 12 Ap: 1.00e+00 Pobj: -6.6666668e-01 Ad: 9.79e-01 Dobj: -6.6666667e-01 \n",
      "Iter: 13 Ap: 9.59e-01 Pobj: -6.6666667e-01 Ad: 9.59e-01 Dobj: -6.6666667e-01 \n",
      "Success: SDP solved\n",
      "Primal objective value: -6.6666667e-01 \n",
      "Dual objective value: -6.6666667e-01 \n",
      "Relative primal infeasibility: 1.34e-13 \n",
      "Relative dual infeasibility: 1.52e-10 \n",
      "Real Relative Gap: 1.08e-10 \n",
      "XZ Relative Gap: 5.12e-10 \n",
      "DIMACS error measures: 1.80e-13 0.00e+00 4.23e-10 0.00e+00 1.08e-10 5.12e-10\n"
     ]
    },
    {
     "name": "stderr",
     "output_type": "stream",
     "text": [
      "\n"
     ]
    },
    {
     "data": {
      "text/plain": [
       "0.6666666672726631"
      ]
     },
     "execution_count": 28,
     "metadata": {},
     "output_type": "execute_result"
    }
   ],
   "source": [
    "# The target function can be any liner combination of flags\n",
    "G.optimize(edge + G(3, edges=[[0, 1]]), 4)"
   ]
  },
  {
   "cell_type": "code",
   "execution_count": 29,
   "id": "90f162ca-a0f0-4d5e-91e5-af5ff1bb00d4",
   "metadata": {},
   "outputs": [
    {
     "name": "stdout",
     "output_type": "stream",
     "text": [
      "Base flags generated, their number is 11\n",
      "The relevant ftypes are constructed, their number is 2\n",
      "Block sizes before symmetric/asymmetric change is applied: [4, 4]\n"
     ]
    },
    {
     "name": "stderr",
     "output_type": "stream",
     "text": [
      "Done with mult table for Ftype on 2 points with edges=(01): : 2it [00:00, 555.65it/s]\n"
     ]
    },
    {
     "name": "stdout",
     "output_type": "stream",
     "text": [
      "Tables finished\n"
     ]
    },
    {
     "name": "stderr",
     "output_type": "stream",
     "text": [
      "Done with positivity constraint 0: 100%|█████████| 1/1 [00:00<00:00, 282.75it/s]"
     ]
    },
    {
     "name": "stdout",
     "output_type": "stream",
     "text": [
      "Constraints finished\n",
      "Running sdp without construction. Used block sizes are [3, 1, 3, 1, -11, -4]\n",
      "CSDP 6.2.0\n",
      "Iter:  0 Ap: 0.00e+00 Pobj:  0.0000000e+00 Ad: 0.00e+00 Dobj:  0.0000000e+00 \n",
      "Iter:  1 Ap: 1.00e+00 Pobj: -2.0362520e+01 Ad: 7.29e-01 Dobj: -6.0813905e-02 \n",
      "Iter:  2 Ap: 1.00e+00 Pobj: -2.0324044e+01 Ad: 9.49e-01 Dobj: -1.4090950e-01 \n",
      "Iter:  3 Ap: 1.00e+00 Pobj: -1.2792797e+01 Ad: 8.87e-01 Dobj: -1.4525769e-01 \n",
      "Iter:  4 Ap: 1.00e+00 Pobj: -2.6397236e+00 Ad: 8.16e-01 Dobj: -1.4716863e-01 \n",
      "Iter:  5 Ap: 9.70e-01 Pobj: -5.7645242e-01 Ad: 8.89e-01 Dobj: -1.6649882e-01 \n",
      "Iter:  6 Ap: 1.00e+00 Pobj: -4.7413525e-01 Ad: 8.51e-01 Dobj: -2.9000569e-01 \n",
      "Iter:  7 Ap: 1.00e+00 Pobj: -3.7538701e-01 Ad: 7.49e-01 Dobj: -3.2184161e-01 \n",
      "Iter:  8 Ap: 1.00e+00 Pobj: -3.5709889e-01 Ad: 8.67e-01 Dobj: -3.4598987e-01 \n",
      "Iter:  9 Ap: 1.00e+00 Pobj: -3.5385657e-01 Ad: 1.00e+00 Dobj: -3.5309874e-01 \n",
      "Iter: 10 Ap: 9.99e-01 Pobj: -3.5356572e-01 Ad: 1.00e+00 Dobj: -3.5353550e-01 \n",
      "Iter: 11 Ap: 9.94e-01 Pobj: -3.5355424e-01 Ad: 1.00e+00 Dobj: -3.5355362e-01 \n",
      "Iter: 12 Ap: 1.00e+00 Pobj: -3.5355343e-01 Ad: 9.87e-01 Dobj: -3.5355340e-01 \n",
      "Iter: 13 Ap: 9.59e-01 Pobj: -3.5355339e-01 Ad: 9.57e-01 Dobj: -3.5355339e-01 \n",
      "Success: SDP solved\n",
      "Primal objective value: -3.5355339e-01 \n",
      "Dual objective value: -3.5355339e-01 \n",
      "Relative primal infeasibility: 3.01e-15 \n",
      "Relative dual infeasibility: 1.84e-09 \n",
      "Real Relative Gap: 3.80e-10 \n",
      "XZ Relative Gap: 3.51e-09 \n",
      "DIMACS error measures: 3.27e-15 0.00e+00 4.99e-09 0.00e+00 3.80e-10 3.51e-09\n"
     ]
    },
    {
     "name": "stderr",
     "output_type": "stream",
     "text": [
      "\n"
     ]
    },
    {
     "data": {
      "text/plain": [
       "0.35355339235478905"
      ]
     },
     "execution_count": 29,
     "metadata": {},
     "output_type": "execute_result"
    }
   ],
   "source": [
    "###\n",
    "### Assumptions\n",
    "###\n",
    "\n",
    "# It is possible to add assumptions to the optimizer. \n",
    "# Any linear combination of flags included will be assumed to be non-negative\n",
    "\n",
    "G.reset()\n",
    "# Here positives=[ 1/2 - edge] asserts that 1/2-edge >= 0, so the density of edges is at most 1/2\n",
    "# We maximize the number of triangles under this assumption\n",
    "G.optimize(triangle, 4, positives=[ 1/2 - edge ])"
   ]
  },
  {
   "cell_type": "code",
   "execution_count": 30,
   "id": "41b4b0a6-e34f-4472-bde4-b6d389582559",
   "metadata": {},
   "outputs": [
    {
     "name": "stdout",
     "output_type": "stream",
     "text": [
      "Base flags generated, their number is 11\n",
      "The relevant ftypes are constructed, their number is 2\n",
      "Block sizes before symmetric/asymmetric change is applied: [4, 4]\n"
     ]
    },
    {
     "name": "stderr",
     "output_type": "stream",
     "text": [
      "Done with mult table for Ftype on 2 points with edges=(01): : 2it [00:00, 354.28it/s]\n"
     ]
    },
    {
     "name": "stdout",
     "output_type": "stream",
     "text": [
      "Tables finished\n"
     ]
    },
    {
     "name": "stderr",
     "output_type": "stream",
     "text": [
      "Done with positivity constraint 0: 100%|█████████| 1/1 [00:00<00:00, 102.61it/s]"
     ]
    },
    {
     "name": "stdout",
     "output_type": "stream",
     "text": [
      "Constraints finished\n",
      "Running sdp without construction. Used block sizes are [3, 1, 3, 1, -11, -8]\n",
      "CSDP 6.2.0\n",
      "Iter:  0 Ap: 0.00e+00 Pobj:  0.0000000e+00 Ad: 0.00e+00 Dobj:  0.0000000e+00 \n",
      "Iter:  1 Ap: 1.00e+00 Pobj: -2.0351247e+01 Ad: 7.28e-01 Dobj:  1.9241068e-01 \n",
      "Iter:  2 Ap: 1.00e+00 Pobj: -2.0298857e+01 Ad: 9.49e-01 Dobj: -1.1331216e-01 \n",
      "Iter:  3 Ap: 1.00e+00 Pobj: -1.2166750e+01 Ad: 8.89e-01 Dobj: -1.1297865e-01 \n",
      "Iter:  4 Ap: 9.44e-01 Pobj: -3.5639778e+00 Ad: 7.81e-01 Dobj: -8.8235703e-02 \n",
      "Iter:  5 Ap: 1.00e+00 Pobj: -1.0447222e+00 Ad: 8.33e-01 Dobj: -8.4380440e-02 \n",
      "Iter:  6 Ap: 9.75e-01 Pobj: -3.1581467e-01 Ad: 8.64e-01 Dobj: -1.0555082e-01 \n",
      "Iter:  7 Ap: 1.00e+00 Pobj: -3.0596168e-01 Ad: 7.93e-01 Dobj: -2.0824259e-01 \n",
      "Iter:  8 Ap: 1.00e+00 Pobj: -2.5581926e-01 Ad: 8.13e-01 Dobj: -2.3309729e-01 \n",
      "Iter:  9 Ap: 1.00e+00 Pobj: -2.5041006e-01 Ad: 9.80e-01 Dobj: -2.4855614e-01 \n",
      "Iter: 10 Ap: 1.00e+00 Pobj: -2.5001867e-01 Ad: 1.00e+00 Dobj: -2.4993040e-01 \n",
      "Iter: 11 Ap: 1.00e+00 Pobj: -2.5000179e-01 Ad: 9.88e-01 Dobj: -2.4999529e-01 \n",
      "Iter: 12 Ap: 1.00e+00 Pobj: -2.5000054e-01 Ad: 1.00e+00 Dobj: -2.4999886e-01 \n",
      "Iter: 13 Ap: 1.00e+00 Pobj: -2.5000007e-01 Ad: 1.00e+00 Dobj: -2.4999989e-01 \n",
      "Iter: 14 Ap: 1.00e+00 Pobj: -2.5000000e-01 Ad: 1.00e+00 Dobj: -2.4999999e-01 \n",
      "Iter: 15 Ap: 9.60e-01 Pobj: -2.5000000e-01 Ad: 9.54e-01 Dobj: -2.5000000e-01 \n",
      "Success: SDP solved\n",
      "Primal objective value: -2.5000000e-01 \n",
      "Dual objective value: -2.5000000e-01 \n",
      "Relative primal infeasibility: 1.37e-14 \n",
      "Relative dual infeasibility: 1.46e-10 \n",
      "Real Relative Gap: 3.78e-10 \n",
      "XZ Relative Gap: 7.90e-10 \n",
      "DIMACS error measures: 1.49e-14 0.00e+00 3.95e-10 0.00e+00 3.78e-10 7.90e-10\n"
     ]
    },
    {
     "name": "stderr",
     "output_type": "stream",
     "text": [
      "\n"
     ]
    },
    {
     "data": {
      "text/plain": [
       "0.2500000001939485"
      ]
     },
     "execution_count": 30,
     "metadata": {},
     "output_type": "execute_result"
    }
   ],
   "source": [
    "# Can also add positive constraints involving types. Then this is assumed to hold for all type\n",
    "\n",
    "# The same optimization, but now we assume every vertex has relative degree at most 1/2\n",
    "G.optimize_problem(G(3), 4, positives=[  1/2 - G(2, ftype=[0])  ])"
   ]
  },
  {
   "cell_type": "code",
   "execution_count": 31,
   "id": "78d5c2bf-cf3d-4264-a155-6a797eeb45bc",
   "metadata": {},
   "outputs": [
    {
     "name": "stdout",
     "output_type": "stream",
     "text": [
      "Base flags generated, their number is 11\n",
      "The relevant ftypes are constructed, their number is 2\n",
      "Block sizes before symmetric/asymmetric change is applied: [4, 4]\n"
     ]
    },
    {
     "name": "stderr",
     "output_type": "stream",
     "text": [
      "Done with mult table for Ftype on 2 points with edges=(01): : 2it [00:00, 536.63it/s]\n"
     ]
    },
    {
     "name": "stdout",
     "output_type": "stream",
     "text": [
      "Tables finished\n"
     ]
    },
    {
     "name": "stderr",
     "output_type": "stream",
     "text": [
      "Done with positivity constraint 1: 100%|█████████| 2/2 [00:00<00:00, 256.20it/s]"
     ]
    },
    {
     "name": "stdout",
     "output_type": "stream",
     "text": [
      "Constraints finished\n",
      "Running sdp without construction. Used block sizes are [3, 1, 3, 1, -11, -4]\n",
      "CSDP 6.2.0\n",
      "Iter:  0 Ap: 0.00e+00 Pobj:  0.0000000e+00 Ad: 0.00e+00 Dobj:  0.0000000e+00 \n",
      "Iter:  1 Ap: 1.00e+00 Pobj: -1.8017644e+01 Ad: 7.48e-01 Dobj:  3.1540360e+00 \n",
      "Iter:  2 Ap: 1.00e+00 Pobj: -1.7888131e+01 Ad: 9.47e-01 Dobj:  6.8888413e-01 \n",
      "Iter:  3 Ap: 1.00e+00 Pobj: -1.0366074e+01 Ad: 8.82e-01 Dobj:  6.3185654e-01 \n",
      "Iter:  4 Ap: 1.00e+00 Pobj: -2.2050229e+00 Ad: 7.85e-01 Dobj:  6.4393155e-01 \n",
      "Iter:  5 Ap: 1.00e+00 Pobj:  2.5269727e-01 Ad: 8.86e-01 Dobj:  6.3929369e-01 \n",
      "Iter:  6 Ap: 1.00e+00 Pobj:  4.8301428e-01 Ad: 8.90e-01 Dobj:  6.1016973e-01 \n",
      "Iter:  7 Ap: 1.00e+00 Pobj:  5.2082258e-01 Ad: 7.25e-01 Dobj:  5.7817993e-01 \n",
      "Iter:  8 Ap: 1.00e+00 Pobj:  5.5020117e-01 Ad: 8.34e-01 Dobj:  5.6249091e-01 \n",
      "Iter:  9 Ap: 1.00e+00 Pobj:  5.5504209e-01 Ad: 1.00e+00 Dobj:  5.5604574e-01 \n",
      "Iter: 10 Ap: 9.94e-01 Pobj:  5.5553248e-01 Ad: 1.00e+00 Dobj:  5.5557653e-01 \n",
      "Iter: 11 Ap: 9.91e-01 Pobj:  5.5555401e-01 Ad: 1.00e+00 Dobj:  5.5555607e-01 \n",
      "Iter: 12 Ap: 1.00e+00 Pobj:  5.5555548e-01 Ad: 9.93e-01 Dobj:  5.5555558e-01 \n",
      "Iter: 13 Ap: 9.59e-01 Pobj:  5.5555555e-01 Ad: 9.58e-01 Dobj:  5.5555556e-01 \n",
      "Success: SDP solved\n",
      "Primal objective value: 5.5555555e-01 \n",
      "Dual objective value: 5.5555556e-01 \n",
      "Relative primal infeasibility: 1.90e-14 \n",
      "Relative dual infeasibility: 1.97e-09 \n",
      "Real Relative Gap: 1.62e-09 \n",
      "XZ Relative Gap: 3.64e-09 \n",
      "DIMACS error measures: 2.75e-14 0.00e+00 5.35e-09 0.00e+00 1.62e-09 3.64e-09\n"
     ]
    },
    {
     "name": "stderr",
     "output_type": "stream",
     "text": [
      "\n"
     ]
    },
    {
     "data": {
      "text/plain": [
       "0.5555555525754818"
      ]
     },
     "execution_count": 31,
     "metadata": {},
     "output_type": "execute_result"
    }
   ],
   "source": [
    "# Listing multiple positivity assumptions works too.\n",
    "# Also we can specify maximize=False, for a minimization problem\n",
    "\n",
    "# Minimize induced no edges, such that induced empty triple is at least 1/3 and \n",
    "# induced triple with one edge is at least 1/3\n",
    "G.optimize(G(2), 4, positives=[ G(3) - 1/3, G(3, edges=[[0, 1]]) - 1/3 ], maximize=False)"
   ]
  },
  {
   "cell_type": "code",
   "execution_count": 32,
   "id": "97b56bd7-71a8-4ab4-8613-d960ea14171f",
   "metadata": {},
   "outputs": [
    {
     "name": "stdout",
     "output_type": "stream",
     "text": [
      "Base flags generated, their number is 3\n",
      "The relevant ftypes are constructed, their number is 1\n",
      "Block sizes before symmetric/asymmetric change is applied: [2]\n"
     ]
    },
    {
     "name": "stderr",
     "output_type": "stream",
     "text": [
      "Done with mult table for Ftype on 1 points with edges=(): : 1it [00:00, 197.21it/s]"
     ]
    },
    {
     "name": "stdout",
     "output_type": "stream",
     "text": [
      "Tables finished\n",
      "Constraints finished\n",
      "Running sdp without construction. Used block sizes are [2, -3, -2]\n",
      "CSDP 6.2.0\n",
      "Iter:  0 Ap: 0.00e+00 Pobj:  0.0000000e+00 Ad: 0.00e+00 Dobj:  0.0000000e+00 \n",
      "Iter:  1 Ap: 1.00e+00 Pobj: -1.5751371e+01 Ad: 7.93e-01 Dobj: -1.8596991e-01 \n",
      "Iter:  2 Ap: 1.00e+00 Pobj: -1.3829292e+01 Ad: 9.44e-01 Dobj: -2.5639371e-01 \n",
      "Iter:  3 Ap: 1.00e+00 Pobj: -3.6548572e+00 Ad: 9.22e-01 Dobj: -2.8097530e-01 \n",
      "Iter:  4 Ap: 1.00e+00 Pobj: -6.7102979e-01 Ad: 8.42e-01 Dobj: -3.1080769e-01 \n",
      "Iter:  5 Ap: 1.00e+00 Pobj: -5.8576247e-01 Ad: 8.44e-01 Dobj: -4.8002387e-01 \n",
      "Iter:  6 Ap: 1.00e+00 Pobj: -5.0647721e-01 Ad: 8.85e-01 Dobj: -4.9296240e-01 \n",
      "Iter:  7 Ap: 1.00e+00 Pobj: -5.0060022e-01 Ad: 9.41e-01 Dobj: -4.9923793e-01 \n",
      "Iter:  8 Ap: 1.00e+00 Pobj: -5.0005080e-01 Ad: 1.00e+00 Dobj: -4.9996691e-01 \n",
      "Iter:  9 Ap: 1.00e+00 Pobj: -5.0000234e-01 Ad: 1.00e+00 Dobj: -4.9999913e-01 \n",
      "Iter: 10 Ap: 1.00e+00 Pobj: -5.0000016e-01 Ad: 1.00e+00 Dobj: -5.0000000e-01 \n",
      "Iter: 11 Ap: 9.58e-01 Pobj: -5.0000001e-01 Ad: 9.70e-01 Dobj: -5.0000000e-01 \n",
      "Success: SDP solved\n",
      "Primal objective value: -5.0000001e-01 \n",
      "Dual objective value: -5.0000000e-01 \n",
      "Relative primal infeasibility: 4.18e-16 \n",
      "Relative dual infeasibility: 3.98e-09 \n",
      "Real Relative Gap: 2.49e-09 \n",
      "XZ Relative Gap: 9.08e-09 \n",
      "DIMACS error measures: 4.38e-16 0.00e+00 8.28e-09 0.00e+00 2.49e-09 9.08e-09\n"
     ]
    },
    {
     "name": "stderr",
     "output_type": "stream",
     "text": [
      "\n"
     ]
    },
    {
     "name": "stdout",
     "output_type": "stream",
     "text": [
      "The initial run gave an accurate looking construction\n",
      "Rounded construction vector is: \n",
      "Flag Algebra Element over Rational Field\n",
      "3/4 - Flag on 3 points, ftype from () with edges=(01)\n",
      "0   - Flag on 3 points, ftype from () with edges=(01 02)\n",
      "1/4 - Flag on 3 points, ftype from () with edges=(01 02 12)\n",
      "Adjusting table with kernels from construction\n",
      "Running SDP after kernel correction. Used block sizes are [1, -3, -2]\n",
      "CSDP 6.2.0\n",
      "Iter:  0 Ap: 0.00e+00 Pobj:  0.0000000e+00 Ad: 0.00e+00 Dobj:  0.0000000e+00 \n",
      "Iter:  1 Ap: 1.00e+00 Pobj: -1.2107440e+01 Ad: 8.40e-01 Dobj:  6.1913653e-01 \n",
      "Iter:  2 Ap: 1.00e+00 Pobj: -1.0543280e+01 Ad: 9.38e-01 Dobj: -1.3876525e-01 \n",
      "Iter:  3 Ap: 1.00e+00 Pobj: -2.4595774e+00 Ad: 9.42e-01 Dobj: -1.9392703e-01 \n",
      "Iter:  4 Ap: 9.51e-01 Pobj: -6.1484578e-01 Ad: 8.50e-01 Dobj: -2.3934806e-01 \n",
      "Iter:  5 Ap: 1.00e+00 Pobj: -6.4529870e-01 Ad: 7.42e-01 Dobj: -4.8596320e-01 \n",
      "Iter:  6 Ap: 9.78e-01 Pobj: -5.0782840e-01 Ad: 8.89e-01 Dobj: -4.9454657e-01 \n",
      "Iter:  7 Ap: 9.90e-01 Pobj: -5.0036064e-01 Ad: 9.65e-01 Dobj: -4.9953666e-01 \n",
      "Iter:  8 Ap: 1.00e+00 Pobj: -5.0002547e-01 Ad: 1.00e+00 Dobj: -4.9997505e-01 \n",
      "Iter:  9 Ap: 9.90e-01 Pobj: -5.0000127e-01 Ad: 1.00e+00 Dobj: -4.9999949e-01 \n",
      "Iter: 10 Ap: 1.00e+00 Pobj: -5.0000006e-01 Ad: 1.00e+00 Dobj: -4.9999997e-01 \n",
      "Iter: 11 Ap: 9.70e-01 Pobj: -5.0000000e-01 Ad: 9.70e-01 Dobj: -5.0000000e-01 \n",
      "Success: SDP solved\n",
      "Primal objective value: -5.0000000e-01 \n",
      "Dual objective value: -5.0000000e-01 \n",
      "Relative primal infeasibility: 4.18e-16 \n",
      "Relative dual infeasibility: 1.57e-09 \n",
      "Real Relative Gap: 1.08e-09 \n",
      "XZ Relative Gap: 3.47e-09 \n",
      "DIMACS error measures: 4.38e-16 0.00e+00 3.20e-09 0.00e+00 1.08e-09 3.47e-09\n",
      "Starting the rounding of the result\n",
      "Rounding X matrices\n",
      "Calculating resulting bound\n"
     ]
    },
    {
     "name": "stderr",
     "output_type": "stream",
     "text": [
      "100%|████████████████████████████████████████████| 1/1 [00:00<00:00, 143.65it/s]"
     ]
    },
    {
     "name": "stdout",
     "output_type": "stream",
     "text": [
      "Final rounded bound is 1/2\n"
     ]
    },
    {
     "name": "stderr",
     "output_type": "stream",
     "text": [
      "\n"
     ]
    },
    {
     "data": {
      "text/plain": [
       "1/2"
      ]
     },
     "execution_count": 32,
     "metadata": {},
     "output_type": "execute_result"
    }
   ],
   "source": [
    "###\n",
    "### Rounding\n",
    "###\n",
    "\n",
    "# Specifying the optimizer `exact=True` tries to round the result\n",
    "G.reset()\n",
    "G.exclude(G(3))\n",
    "# Get exactly 1/2 for Mantel's theorem\n",
    "G.optimize(G(2), 3, exact=True)"
   ]
  },
  {
   "cell_type": "code",
   "execution_count": 33,
   "id": "83876f79-a88e-4602-9b9c-5772997a1ce7",
   "metadata": {},
   "outputs": [
    {
     "name": "stdout",
     "output_type": "stream",
     "text": [
      "Base flags generated, their number is 11\n",
      "The relevant ftypes are constructed, their number is 2\n",
      "Block sizes before symmetric/asymmetric change is applied: [4, 4]\n"
     ]
    },
    {
     "name": "stderr",
     "output_type": "stream",
     "text": [
      "Done with mult table for Ftype on 2 points with edges=(01): : 2it [00:00, 568.06it/s]\n"
     ]
    },
    {
     "name": "stdout",
     "output_type": "stream",
     "text": [
      "Tables finished\n"
     ]
    },
    {
     "name": "stderr",
     "output_type": "stream",
     "text": [
      "Done with positivity constraint 0: 100%|█████████| 1/1 [00:00<00:00, 290.48it/s]"
     ]
    },
    {
     "name": "stdout",
     "output_type": "stream",
     "text": [
      "Constraints finished\n",
      "Running sdp without construction. Used block sizes are [3, 1, 3, 1, -11, -8]\n"
     ]
    },
    {
     "name": "stderr",
     "output_type": "stream",
     "text": [
      "\n"
     ]
    },
    {
     "name": "stdout",
     "output_type": "stream",
     "text": [
      "CSDP 6.2.0\n",
      "Iter:  0 Ap: 0.00e+00 Pobj:  0.0000000e+00 Ad: 0.00e+00 Dobj:  0.0000000e+00 \n",
      "Iter:  1 Ap: 1.00e+00 Pobj: -2.0351247e+01 Ad: 7.28e-01 Dobj:  1.9241068e-01 \n",
      "Iter:  2 Ap: 1.00e+00 Pobj: -2.0298857e+01 Ad: 9.49e-01 Dobj: -1.1331216e-01 \n",
      "Iter:  3 Ap: 1.00e+00 Pobj: -1.2166750e+01 Ad: 8.89e-01 Dobj: -1.1297865e-01 \n",
      "Iter:  4 Ap: 9.44e-01 Pobj: -3.5639778e+00 Ad: 7.81e-01 Dobj: -8.8235703e-02 \n",
      "Iter:  5 Ap: 1.00e+00 Pobj: -1.0447222e+00 Ad: 8.33e-01 Dobj: -8.4380440e-02 \n",
      "Iter:  6 Ap: 9.75e-01 Pobj: -3.1581467e-01 Ad: 8.64e-01 Dobj: -1.0555082e-01 \n",
      "Iter:  7 Ap: 1.00e+00 Pobj: -3.0596168e-01 Ad: 7.93e-01 Dobj: -2.0824259e-01 \n",
      "Iter:  8 Ap: 1.00e+00 Pobj: -2.5581926e-01 Ad: 8.13e-01 Dobj: -2.3309729e-01 \n",
      "Iter:  9 Ap: 1.00e+00 Pobj: -2.5041006e-01 Ad: 9.80e-01 Dobj: -2.4855614e-01 \n",
      "Iter: 10 Ap: 1.00e+00 Pobj: -2.5001867e-01 Ad: 1.00e+00 Dobj: -2.4993040e-01 \n",
      "Iter: 11 Ap: 1.00e+00 Pobj: -2.5000179e-01 Ad: 9.88e-01 Dobj: -2.4999529e-01 \n",
      "Iter: 12 Ap: 1.00e+00 Pobj: -2.5000054e-01 Ad: 1.00e+00 Dobj: -2.4999886e-01 \n",
      "Iter: 13 Ap: 1.00e+00 Pobj: -2.5000007e-01 Ad: 1.00e+00 Dobj: -2.4999989e-01 \n",
      "Iter: 14 Ap: 1.00e+00 Pobj: -2.5000000e-01 Ad: 1.00e+00 Dobj: -2.4999999e-01 \n",
      "Iter: 15 Ap: 9.60e-01 Pobj: -2.5000000e-01 Ad: 9.54e-01 Dobj: -2.5000000e-01 \n",
      "Success: SDP solved\n",
      "Primal objective value: -2.5000000e-01 \n",
      "Dual objective value: -2.5000000e-01 \n",
      "Relative primal infeasibility: 1.37e-14 \n",
      "Relative dual infeasibility: 1.46e-10 \n",
      "Real Relative Gap: 3.78e-10 \n",
      "XZ Relative Gap: 7.90e-10 \n",
      "DIMACS error measures: 1.49e-14 0.00e+00 3.95e-10 0.00e+00 3.78e-10 7.90e-10\n",
      "The initial run gave an accurate looking construction\n",
      "Rounded construction vector is: \n",
      "Flag Algebra Element over Rational Field\n",
      "1/8 - Flag on 4 points, ftype from () with edges=()\n",
      "1/2 - Flag on 4 points, ftype from () with edges=(01 02 03)\n",
      "3/8 - Flag on 4 points, ftype from () with edges=(02 03 12 13)\n",
      "Adjusting table with kernels from construction\n",
      "Running SDP after kernel correction. Used block sizes are [2, 1, 2, 1, -11, -8]\n",
      "CSDP 6.2.0\n",
      "Iter:  0 Ap: 0.00e+00 Pobj:  0.0000000e+00 Ad: 0.00e+00 Dobj:  0.0000000e+00 \n",
      "Iter:  1 Ap: 1.00e+00 Pobj: -1.6899685e+01 Ad: 7.65e-01 Dobj:  7.9442214e-01 \n",
      "Iter:  2 Ap: 1.00e+00 Pobj: -1.6923744e+01 Ad: 9.47e-01 Dobj: -7.7908927e-02 \n",
      "Iter:  3 Ap: 1.00e+00 Pobj: -1.0216264e+01 Ad: 8.89e-01 Dobj: -8.5334539e-02 \n",
      "Iter:  4 Ap: 9.71e-01 Pobj: -2.9740218e+00 Ad: 7.74e-01 Dobj: -6.3244542e-02 \n",
      "Iter:  5 Ap: 1.00e+00 Pobj: -7.4813836e-01 Ad: 8.49e-01 Dobj: -6.3640609e-02 \n",
      "Iter:  6 Ap: 9.71e-01 Pobj: -3.0977453e-01 Ad: 8.43e-01 Dobj: -9.2208413e-02 \n",
      "Iter:  7 Ap: 1.00e+00 Pobj: -3.1279644e-01 Ad: 7.37e-01 Dobj: -1.9386842e-01 \n",
      "Iter:  8 Ap: 1.00e+00 Pobj: -2.5718711e-01 Ad: 8.00e-01 Dobj: -2.2633313e-01 \n",
      "Iter:  9 Ap: 1.00e+00 Pobj: -2.5046552e-01 Ad: 9.64e-01 Dobj: -2.4756687e-01 \n",
      "Iter: 10 Ap: 9.98e-01 Pobj: -2.5002103e-01 Ad: 1.00e+00 Dobj: -2.4987493e-01 \n",
      "Iter: 11 Ap: 1.00e+00 Pobj: -2.5000133e-01 Ad: 9.97e-01 Dobj: -2.4999411e-01 \n",
      "Iter: 12 Ap: 1.00e+00 Pobj: -2.5000035e-01 Ad: 1.00e+00 Dobj: -2.4999906e-01 \n",
      "Iter: 13 Ap: 1.00e+00 Pobj: -2.5000004e-01 Ad: 1.00e+00 Dobj: -2.4999988e-01 \n",
      "Iter: 14 Ap: 1.00e+00 Pobj: -2.5000000e-01 Ad: 9.99e-01 Dobj: -2.4999999e-01 \n",
      "Iter: 15 Ap: 9.60e-01 Pobj: -2.5000000e-01 Ad: 9.55e-01 Dobj: -2.5000000e-01 \n",
      "Success: SDP solved\n",
      "Primal objective value: -2.5000000e-01 \n",
      "Dual objective value: -2.5000000e-01 \n",
      "Relative primal infeasibility: 1.35e-14 \n",
      "Relative dual infeasibility: 1.40e-10 \n",
      "Real Relative Gap: 3.45e-10 \n",
      "XZ Relative Gap: 7.40e-10 \n",
      "DIMACS error measures: 1.47e-14 0.00e+00 3.70e-10 0.00e+00 3.45e-10 7.40e-10\n",
      "Starting the rounding of the result\n",
      "Rounding X matrices\n",
      "Calculating resulting bound\n"
     ]
    },
    {
     "name": "stderr",
     "output_type": "stream",
     "text": [
      "100%|████████████████████████████████████████████| 2/2 [00:00<00:00, 140.17it/s]"
     ]
    },
    {
     "name": "stdout",
     "output_type": "stream",
     "text": [
      "Final rounded bound is 1/4\n"
     ]
    },
    {
     "name": "stderr",
     "output_type": "stream",
     "text": [
      "\n"
     ]
    },
    {
     "data": {
      "text/plain": [
       "1/4"
      ]
     },
     "execution_count": 33,
     "metadata": {},
     "output_type": "execute_result"
    }
   ],
   "source": [
    "# If the optimal construction is well-behaved, this works well.\n",
    "# From an earlier cell\n",
    "G.reset()\n",
    "G.optimize_problem(G(3), 4, positives=[  1/2 - G(2, ftype=[0])  ], exact=True)"
   ]
  },
  {
   "cell_type": "code",
   "execution_count": 34,
   "id": "e3d108b6-62c2-46d6-a1e6-326143e95562",
   "metadata": {},
   "outputs": [
    {
     "name": "stdout",
     "output_type": "stream",
     "text": [
      "Base flags generated, their number is 11\n",
      "The relevant ftypes are constructed, their number is 2\n",
      "Block sizes before symmetric/asymmetric change is applied: [4, 4]\n"
     ]
    },
    {
     "name": "stderr",
     "output_type": "stream",
     "text": [
      "Done with mult table for Ftype on 2 points with edges=(01): : 2it [00:00, 340.54it/s]\n"
     ]
    },
    {
     "name": "stdout",
     "output_type": "stream",
     "text": [
      "Tables finished\n"
     ]
    },
    {
     "name": "stderr",
     "output_type": "stream",
     "text": [
      "Done with positivity constraint 0: 100%|█████████| 1/1 [00:00<00:00, 245.63it/s]"
     ]
    },
    {
     "name": "stdout",
     "output_type": "stream",
     "text": [
      "Constraints finished\n",
      "Running sdp without construction. Used block sizes are [3, 1, 3, 1, -11, -4]\n"
     ]
    },
    {
     "name": "stderr",
     "output_type": "stream",
     "text": [
      "\n"
     ]
    },
    {
     "name": "stdout",
     "output_type": "stream",
     "text": [
      "CSDP 6.2.0\n",
      "Iter:  0 Ap: 0.00e+00 Pobj:  0.0000000e+00 Ad: 0.00e+00 Dobj:  0.0000000e+00 \n",
      "Iter:  1 Ap: 1.00e+00 Pobj: -2.0362520e+01 Ad: 7.29e-01 Dobj: -6.0813905e-02 \n",
      "Iter:  2 Ap: 1.00e+00 Pobj: -2.0324044e+01 Ad: 9.49e-01 Dobj: -1.4090950e-01 \n",
      "Iter:  3 Ap: 1.00e+00 Pobj: -1.2792797e+01 Ad: 8.87e-01 Dobj: -1.4525769e-01 \n",
      "Iter:  4 Ap: 1.00e+00 Pobj: -2.6397236e+00 Ad: 8.16e-01 Dobj: -1.4716863e-01 \n",
      "Iter:  5 Ap: 9.70e-01 Pobj: -5.7645242e-01 Ad: 8.89e-01 Dobj: -1.6649882e-01 \n",
      "Iter:  6 Ap: 1.00e+00 Pobj: -4.7413525e-01 Ad: 8.51e-01 Dobj: -2.9000569e-01 \n",
      "Iter:  7 Ap: 1.00e+00 Pobj: -3.7538701e-01 Ad: 7.49e-01 Dobj: -3.2184161e-01 \n",
      "Iter:  8 Ap: 1.00e+00 Pobj: -3.5709889e-01 Ad: 8.67e-01 Dobj: -3.4598987e-01 \n",
      "Iter:  9 Ap: 1.00e+00 Pobj: -3.5385657e-01 Ad: 1.00e+00 Dobj: -3.5309874e-01 \n",
      "Iter: 10 Ap: 9.99e-01 Pobj: -3.5356572e-01 Ad: 1.00e+00 Dobj: -3.5353550e-01 \n",
      "Iter: 11 Ap: 9.94e-01 Pobj: -3.5355424e-01 Ad: 1.00e+00 Dobj: -3.5355362e-01 \n",
      "Iter: 12 Ap: 1.00e+00 Pobj: -3.5355343e-01 Ad: 9.87e-01 Dobj: -3.5355340e-01 \n",
      "Iter: 13 Ap: 9.59e-01 Pobj: -3.5355339e-01 Ad: 9.57e-01 Dobj: -3.5355339e-01 \n",
      "Success: SDP solved\n",
      "Primal objective value: -3.5355339e-01 \n",
      "Dual objective value: -3.5355339e-01 \n",
      "Relative primal infeasibility: 3.01e-15 \n",
      "Relative dual infeasibility: 1.84e-09 \n",
      "Real Relative Gap: 3.80e-10 \n",
      "XZ Relative Gap: 3.51e-09 \n",
      "DIMACS error measures: 3.27e-15 0.00e+00 4.99e-09 0.00e+00 3.80e-10 3.51e-09\n",
      "The initial run didn't provide an accurate construction\n",
      "Rounding X matrices\n"
     ]
    },
    {
     "name": "stderr",
     "output_type": "stream",
     "text": [
      "100%|████████████████████████████████████████████| 4/4 [00:00<00:00, 826.67it/s]\n"
     ]
    },
    {
     "name": "stdout",
     "output_type": "stream",
     "text": [
      "Calculating resulting bound\n"
     ]
    },
    {
     "name": "stderr",
     "output_type": "stream",
     "text": [
      "100%|████████████████████████████████████████████| 2/2 [00:00<00:00, 215.84it/s]"
     ]
    },
    {
     "name": "stdout",
     "output_type": "stream",
     "text": [
      "The rounded result is -363/1024\n"
     ]
    },
    {
     "name": "stderr",
     "output_type": "stream",
     "text": [
      "\n"
     ]
    },
    {
     "data": {
      "text/plain": [
       "363/1024"
      ]
     },
     "execution_count": 34,
     "metadata": {},
     "output_type": "execute_result"
    }
   ],
   "source": [
    "# If the solution does not look simple, then an approximate result is returned (usually)\n",
    "G.reset()\n",
    "G.optimize(triangle, 4, positives=[ 1/2 - edge ], exact=True)"
   ]
  },
  {
   "cell_type": "code",
   "execution_count": 35,
   "id": "a1d43d8f-7880-403a-b81b-dfcfe01cfee1",
   "metadata": {},
   "outputs": [
    {
     "name": "stdout",
     "output_type": "stream",
     "text": [
      "Base flags generated, their number is 11\n",
      "The relevant ftypes are constructed, their number is 2\n",
      "Block sizes before symmetric/asymmetric change is applied: [4, 4]\n"
     ]
    },
    {
     "name": "stderr",
     "output_type": "stream",
     "text": [
      "Done with mult table for Ftype on 2 points with edges=(01): : 2it [00:00, 741.37it/s]\n"
     ]
    },
    {
     "name": "stdout",
     "output_type": "stream",
     "text": [
      "Tables finished\n"
     ]
    },
    {
     "name": "stderr",
     "output_type": "stream",
     "text": [
      "Done with positivity constraint 0: 100%|█████████| 1/1 [00:00<00:00, 511.00it/s]"
     ]
    },
    {
     "name": "stdout",
     "output_type": "stream",
     "text": [
      "Constraints finished\n",
      "Running sdp without construction. Used block sizes are [3, 1, 3, 1, -11, -4]\n",
      "CSDP 6.2.0\n",
      "Iter:  0 Ap: 0.00e+00 Pobj:  0.0000000e+00 Ad: 0.00e+00 Dobj:  0.0000000e+00 \n",
      "Iter:  1 Ap: 1.00e+00 Pobj: -2.0362520e+01 Ad: 7.29e-01 Dobj: -6.0813905e-02 \n",
      "Iter:  2 Ap: 1.00e+00 Pobj: -2.0324044e+01 Ad: 9.49e-01 Dobj: -1.4090950e-01 \n",
      "Iter:  3 Ap: 1.00e+00 Pobj: -1.2792797e+01 Ad: 8.87e-01 Dobj: -1.4525769e-01 \n",
      "Iter:  4 Ap: 1.00e+00 Pobj: -2.6397236e+00 Ad: 8.16e-01 Dobj: -1.4716863e-01 \n",
      "Iter:  5 Ap: 9.70e-01 Pobj: -5.7645242e-01 Ad: 8.89e-01 Dobj: -1.6649882e-01 \n",
      "Iter:  6 Ap: 1.00e+00 Pobj: -4.7413525e-01 Ad: 8.51e-01 Dobj: -2.9000569e-01 \n",
      "Iter:  7 Ap: 1.00e+00 Pobj: -3.7538701e-01 Ad: 7.49e-01 Dobj: -3.2184161e-01 \n",
      "Iter:  8 Ap: 1.00e+00 Pobj: -3.5709889e-01 Ad: 8.67e-01 Dobj: -3.4598987e-01 \n",
      "Iter:  9 Ap: 1.00e+00 Pobj: -3.5385657e-01 Ad: 1.00e+00 Dobj: -3.5309874e-01 \n",
      "Iter: 10 Ap: 9.99e-01 Pobj: -3.5356572e-01 Ad: 1.00e+00 Dobj: -3.5353550e-01 \n",
      "Iter: 11 Ap: 9.94e-01 Pobj: -3.5355424e-01 Ad: 1.00e+00 Dobj: -3.5355362e-01 \n",
      "Iter: 12 Ap: 1.00e+00 Pobj: -3.5355343e-01 Ad: 9.87e-01 Dobj: -3.5355340e-01 \n",
      "Iter: 13 Ap: 9.59e-01 Pobj: -3.5355339e-01 Ad: 9.57e-01 Dobj: -3.5355339e-01 \n",
      "Success: SDP solved\n",
      "Primal objective value: -3.5355339e-01 \n",
      "Dual objective value: -3.5355339e-01 \n",
      "Relative primal infeasibility: 3.01e-15 \n",
      "Relative dual infeasibility: 1.84e-09 \n",
      "Real Relative Gap: 3.80e-10 \n",
      "XZ Relative Gap: 3.51e-09 \n",
      "DIMACS error measures: 3.27e-15 0.00e+00 4.99e-09 0.00e+00 3.80e-10 3.51e-09\n"
     ]
    },
    {
     "name": "stderr",
     "output_type": "stream",
     "text": [
      "\n"
     ]
    },
    {
     "name": "stdout",
     "output_type": "stream",
     "text": [
      "The initial run didn't provide an accurate construction\n",
      "Rounding X matrices\n"
     ]
    },
    {
     "name": "stderr",
     "output_type": "stream",
     "text": [
      "100%|███████████████████████████████████████████| 4/4 [00:00<00:00, 1262.20it/s]\n"
     ]
    },
    {
     "name": "stdout",
     "output_type": "stream",
     "text": [
      "Calculating resulting bound\n"
     ]
    },
    {
     "name": "stderr",
     "output_type": "stream",
     "text": [
      "100%|████████████████████████████████████████████| 2/2 [00:00<00:00, 248.97it/s]"
     ]
    },
    {
     "name": "stdout",
     "output_type": "stream",
     "text": [
      "The rounded result is -741457/2097152\n"
     ]
    },
    {
     "name": "stderr",
     "output_type": "stream",
     "text": [
      "\n"
     ]
    },
    {
     "data": {
      "text/plain": [
       "741457/2097152"
      ]
     },
     "execution_count": 35,
     "metadata": {},
     "output_type": "execute_result"
    }
   ],
   "source": [
    "# This can be refined, to use higher denominator\n",
    "G.reset()\n",
    "G.optimize(triangle, 4, positives=[ 1/2 - edge ], exact=True, denom=1024*1024)"
   ]
  },
  {
   "cell_type": "code",
   "execution_count": 36,
   "id": "bb54c471-cc89-4e1b-a3ff-c2e96291b828",
   "metadata": {},
   "outputs": [
    {
     "name": "stderr",
     "output_type": "stream",
     "text": [
      "100%|█████████████████████████████████████████| 15/15 [00:00<00:00, 2399.30it/s]\n",
      "100%|█████████████████████████████████████████| 15/15 [00:00<00:00, 1852.55it/s]\n",
      "100%|█████████████████████████████████████████| 15/15 [00:00<00:00, 1661.77it/s]\n"
     ]
    },
    {
     "name": "stdout",
     "output_type": "stream",
     "text": [
      "Base flags generated, their number is 10\n",
      "The relevant ftypes are constructed, their number is 2\n",
      "Block sizes before symmetric/asymmetric change is applied: [4, 4]\n"
     ]
    },
    {
     "name": "stderr",
     "output_type": "stream",
     "text": [
      "Done with mult table for Ftype on 2 points with edges=(01): : 2it [00:00, 818.32it/s]"
     ]
    },
    {
     "name": "stdout",
     "output_type": "stream",
     "text": [
      "Tables finished\n",
      "Constraints finished\n",
      "Adjusting table with kernels from construction\n",
      "Running SDP after kernel correction. Used block sizes are [2, 1, 2, 1, -10, -2]\n"
     ]
    },
    {
     "name": "stderr",
     "output_type": "stream",
     "text": [
      "\n"
     ]
    },
    {
     "name": "stdout",
     "output_type": "stream",
     "text": [
      "CSDP 6.2.0\n",
      "Iter:  0 Ap: 0.00e+00 Pobj:  0.0000000e+00 Ad: 0.00e+00 Dobj:  0.0000000e+00 \n",
      "Iter:  1 Ap: 1.00e+00 Pobj: -1.5796684e+01 Ad: 7.85e-01 Dobj:  6.8056615e-01 \n",
      "Iter:  2 Ap: 1.00e+00 Pobj: -1.5707513e+01 Ad: 9.45e-01 Dobj: -3.2226608e-01 \n",
      "Iter:  3 Ap: 1.00e+00 Pobj: -9.0891397e+00 Ad: 8.85e-01 Dobj: -3.7904920e-01 \n",
      "Iter:  4 Ap: 1.00e+00 Pobj: -2.2516642e+00 Ad: 7.96e-01 Dobj: -3.9403156e-01 \n",
      "Iter:  5 Ap: 9.85e-01 Pobj: -7.9859298e-01 Ad: 8.64e-01 Dobj: -4.2692015e-01 \n",
      "Iter:  6 Ap: 1.00e+00 Pobj: -7.9752891e-01 Ad: 8.05e-01 Dobj: -5.9421260e-01 \n",
      "Iter:  7 Ap: 1.00e+00 Pobj: -6.7904726e-01 Ad: 8.09e-01 Dobj: -6.3478376e-01 \n",
      "Iter:  8 Ap: 1.00e+00 Pobj: -6.6818656e-01 Ad: 8.96e-01 Dobj: -6.6029120e-01 \n",
      "Iter:  9 Ap: 1.00e+00 Pobj: -6.6678401e-01 Ad: 1.00e+00 Dobj: -6.6632552e-01 \n",
      "Iter: 10 Ap: 9.99e-01 Pobj: -6.6667180e-01 Ad: 1.00e+00 Dobj: -6.6665332e-01 \n",
      "Iter: 11 Ap: 1.00e+00 Pobj: -6.6666722e-01 Ad: 9.98e-01 Dobj: -6.6666650e-01 \n",
      "Iter: 12 Ap: 1.00e+00 Pobj: -6.6666670e-01 Ad: 9.85e-01 Dobj: -6.6666661e-01 \n",
      "Iter: 13 Ap: 9.59e-01 Pobj: -6.6666667e-01 Ad: 9.56e-01 Dobj: -6.6666667e-01 \n",
      "Success: SDP solved\n",
      "Primal objective value: -6.6666667e-01 \n",
      "Dual objective value: -6.6666667e-01 \n",
      "Relative primal infeasibility: 4.28e-15 \n",
      "Relative dual infeasibility: 1.57e-09 \n",
      "Real Relative Gap: 1.31e-09 \n",
      "XZ Relative Gap: 3.42e-09 \n",
      "DIMACS error measures: 6.09e-15 0.00e+00 4.20e-09 0.00e+00 1.31e-09 3.42e-09\n",
      "Starting the rounding of the result\n",
      "Rounding X matrices\n",
      "Linear coefficient is negative: -329/512\n",
      "The result will be worse than expected.\n",
      "Calculating resulting bound\n"
     ]
    },
    {
     "name": "stderr",
     "output_type": "stream",
     "text": [
      "100%|████████████████████████████████████████████| 2/2 [00:00<00:00, 206.47it/s]"
     ]
    },
    {
     "name": "stdout",
     "output_type": "stream",
     "text": [
      "Final rounded bound is 2/3\n"
     ]
    },
    {
     "name": "stderr",
     "output_type": "stream",
     "text": [
      "\n"
     ]
    },
    {
     "data": {
      "text/plain": [
       "2/3"
      ]
     },
     "execution_count": 36,
     "metadata": {},
     "output_type": "execute_result"
    }
   ],
   "source": [
    "###\n",
    "### Construction\n",
    "###\n",
    "\n",
    "# When the optimizer fails to give a correct looking construction,\n",
    "# It is possible to provide it directly\n",
    "\n",
    "# Theory.blowup_construction(target_size, construction_size, **relations)\n",
    "# provides a way to specify blowups of simple patterns\n",
    "\n",
    "G.reset()\n",
    "\n",
    "# Here is a tripartite graph, with target size 4\n",
    "trip_constr = G.blowup_construction(4, 3, edges=[[0, 1], [0, 2], [1, 2]])\n",
    "\n",
    "#Here is the complement of that graph. So only edges inside the parts\n",
    "trip_constr_compl = G.blowup_construction(4, 3, edges=[[0, 0], [1, 1], [2, 2]])\n",
    "\n",
    "G.reset()\n",
    "G.exclude(G(4))\n",
    "# Note the constructions above were for Graphs with perhaps a different excluded structure.\n",
    "# We need to construct it again for K4-free graphs\n",
    "trip_constr_compl = G.blowup_construction(4, 3, edges=[[0, 0], [1, 1], [2, 2]])\n",
    "G.optimize(G(2), 4, construction=trip_constr_compl, exact=True)"
   ]
  },
  {
   "cell_type": "code",
   "execution_count": 37,
   "id": "0ca869fb-903b-40ed-92c4-fd9de7341bb1",
   "metadata": {},
   "outputs": [
    {
     "name": "stderr",
     "output_type": "stream",
     "text": [
      "100%|██████████████████████████████████████████| 15/15 [00:00<00:00, 350.25it/s]\n"
     ]
    },
    {
     "name": "stdout",
     "output_type": "stream",
     "text": [
      "Symbolic construction: \n",
      " Flag Algebra Element over Multivariate Polynomial Ring in X0, X1, X2 over Rational Field\n",
      "X0^4 + X1^4 + X2^4                                                    - Flag on 4 points, ftype from () with edges=()\n",
      "4*X0^3*X1 + 4*X0*X1^3 + 4*X0^3*X2 + 4*X1^3*X2 + 4*X0*X2^3 + 4*X1*X2^3 - Flag on 4 points, ftype from () with edges=(01 02 03)\n",
      "6*X0^2*X1^2 + 6*X0^2*X2^2 + 6*X1^2*X2^2                               - Flag on 4 points, ftype from () with edges=(02 03 12 13)\n",
      "12*X0^2*X1*X2 + 12*X0*X1^2*X2 + 12*X0*X1*X2^2                         - Flag on 4 points, ftype from () with edges=(01 02 03 12 13)\n",
      "\n",
      "\n",
      "Construction at another point: \n",
      " Flag Algebra Element over Rational Field\n",
      "49/648 - Flag on 4 points, ftype from () with edges=()\n",
      "59/162 - Flag on 4 points, ftype from () with edges=(01 02 03)\n",
      "49/216 - Flag on 4 points, ftype from () with edges=(02 03 12 13)\n",
      "1/3    - Flag on 4 points, ftype from () with edges=(01 02 03 12 13)\n",
      "\n",
      "\n",
      "Construction after sum set and diff: \n",
      " Flag Algebra Element over Multivariate Polynomial Ring in X0, X1, X2 over Rational Field\n",
      "8*X0^3 + 12*X0^2*X1 + 12*X0*X1^2 + 4*X1^3 - 12*X0^2 - 24*X0*X1 - 12*X1^2 + 12*X0 + 12*X1 - 4    - Flag on 4 points, ftype from () with edges=()\n",
      "-32*X0^3 - 48*X0^2*X1 - 48*X0*X1^2 - 16*X1^3 + 48*X0^2 + 72*X0*X1 + 36*X1^2 - 24*X0 - 24*X1 + 4 - Flag on 4 points, ftype from () with edges=(01 02 03)\n",
      "24*X0^3 + 36*X0^2*X1 + 36*X0*X1^2 + 12*X1^3 - 36*X0^2 - 24*X0*X1 - 12*X1^2 + 12*X0              - Flag on 4 points, ftype from () with edges=(02 03 12 13)\n",
      "-24*X0*X1 - 12*X1^2 + 12*X1                                                                     - Flag on 4 points, ftype from () with edges=(01 02 03 12 13) \n",
      "\n",
      "\n",
      "Base flags generated, their number is 11\n",
      "The relevant ftypes are constructed, their number is 2\n",
      "Block sizes before symmetric/asymmetric change is applied: [4, 4]\n"
     ]
    },
    {
     "name": "stderr",
     "output_type": "stream",
     "text": [
      "Done with mult table for Ftype on 2 points with edges=(01): : 2it [00:00, 831.05it/s]\n"
     ]
    },
    {
     "name": "stdout",
     "output_type": "stream",
     "text": [
      "Tables finished\n"
     ]
    },
    {
     "name": "stderr",
     "output_type": "stream",
     "text": [
      "Done with positivity constraint 0: 100%|█████████| 1/1 [00:00<00:00, 627.61it/s]\n"
     ]
    },
    {
     "name": "stdout",
     "output_type": "stream",
     "text": [
      "Constraints finished\n",
      "Adjusting table with kernels from construction\n",
      "Running SDP after kernel correction. Used block sizes are [1, 1, 1, -11, -3]\n",
      "CSDP 6.2.0\n",
      "Iter:  0 Ap: 0.00e+00 Pobj:  0.0000000e+00 Ad: 0.00e+00 Dobj:  0.0000000e+00 \n",
      "Iter:  1 Ap: 1.00e+00 Pobj: -1.3408760e+01 Ad: 8.19e-01 Dobj: -6.3955233e-01 \n",
      "Iter:  2 Ap: 1.00e+00 Pobj: -1.3318852e+01 Ad: 9.28e-01 Dobj: -4.5726524e-01 \n",
      "Iter:  3 Ap: 1.00e+00 Pobj: -8.1795916e+00 Ad: 7.94e-01 Dobj: -4.2808208e-01 \n",
      "Iter:  4 Ap: 1.00e+00 Pobj: -1.9104284e+00 Ad: 8.04e-01 Dobj: -4.1569778e-01 \n",
      "Iter:  5 Ap: 9.55e-01 Pobj: -6.9836150e-01 Ad: 8.94e-01 Dobj: -4.4765946e-01 \n",
      "Iter:  6 Ap: 1.00e+00 Pobj: -5.9772430e-01 Ad: 9.53e-01 Dobj: -5.4377973e-01 \n",
      "Iter:  7 Ap: 1.00e+00 Pobj: -5.7362396e-01 Ad: 9.01e-01 Dobj: -5.6678083e-01 \n",
      "Iter:  8 Ap: 1.00e+00 Pobj: -5.7155774e-01 Ad: 9.90e-01 Dobj: -5.7120497e-01 \n",
      "Iter:  9 Ap: 1.00e+00 Pobj: -5.7143532e-01 Ad: 1.00e+00 Dobj: -5.7141901e-01 \n",
      "Iter: 10 Ap: 9.84e-01 Pobj: -5.7142917e-01 Ad: 1.00e+00 Dobj: -5.7142841e-01 \n",
      "Iter: 11 Ap: 1.00e+00 Pobj: -5.7142860e-01 Ad: 9.74e-01 Dobj: -5.7142855e-01 \n",
      "Iter: 12 Ap: 9.59e-01 Pobj: -5.7142857e-01 Ad: 9.59e-01 Dobj: -5.7142857e-01 \n",
      "Success: SDP solved\n",
      "Primal objective value: -5.7142857e-01 \n",
      "Dual objective value: -5.7142857e-01 \n",
      "Relative primal infeasibility: 1.31e-15 \n",
      "Relative dual infeasibility: 1.59e-09 \n",
      "Real Relative Gap: 7.87e-10 \n",
      "XZ Relative Gap: 2.83e-09 \n",
      "DIMACS error measures: 1.89e-15 0.00e+00 3.74e-09 0.00e+00 7.87e-10 2.83e-09\n"
     ]
    },
    {
     "data": {
      "text/plain": [
       "0.5714285725860463"
      ]
     },
     "execution_count": 37,
     "metadata": {},
     "output_type": "execute_result"
    }
   ],
   "source": [
    "# It is possible to create symbolic constructions\n",
    "G.reset()\n",
    "trip_constr = G.blowup_construction(4, 3, edges=[[0, 1], [0, 2], [1, 2]], symbolic=True)\n",
    "\n",
    "# Here the construction is a flag over the rationals extended with 3 variables X0, X1, X2 (one for each part)\n",
    "print(\"Symbolic construction: \\n\", trip_constr)\n",
    "\n",
    "# To evaluate it at a given point, we can call\n",
    "eval_constr = trip_constr.subs([1/2, 1/3, 1/6])\n",
    "print(\"\\n\\nConstruction at another point: \\n\", eval_constr)\n",
    "\n",
    "# It is also possible to force the sum to be 1\n",
    "sumset_constr = trip_constr.set_sum()\n",
    "\n",
    "# We can also differentiate each variable a given number of times\n",
    "der_sumset_constr = sumset_constr.derivative([1, 0, 0])\n",
    "print(\"\\n\\nConstruction after sum set and diff: \\n\", der_sumset_constr, \"\\n\\n\")\n",
    "\n",
    "# Probably the most useful function is to differentiate in all possible way and\n",
    "# Substitute at a given point\n",
    "# This returns a list of constructions (with some scaling)\n",
    "constrs = trip_constr.derivatives([1/2, 1/3, 1/6])\n",
    "# It is possible to pass multiple constructions to the optimizer\n",
    "G.optimize(G(2), 4, construction=constrs, positives=[-G(3)])"
   ]
  },
  {
   "cell_type": "code",
   "execution_count": 38,
   "id": "74d34638-ba0e-44ce-8386-d307aebcb8cf",
   "metadata": {},
   "outputs": [
    {
     "name": "stdout",
     "output_type": "stream",
     "text": [
      "Base flags generated, their number is 3\n",
      "The relevant ftypes are constructed, their number is 1\n",
      "Block sizes before symmetric/asymmetric change is applied: [2]\n"
     ]
    },
    {
     "name": "stderr",
     "output_type": "stream",
     "text": [
      "Done with mult table for Ftype on 1 points with edges=(): : 1it [00:00, 73.13it/s]"
     ]
    },
    {
     "name": "stdout",
     "output_type": "stream",
     "text": [
      "Tables finished\n",
      "Constraints finished\n",
      "Running sdp without construction. Used block sizes are [2, -3, -2]\n",
      "CSDP 6.2.0\n",
      "Iter:  0 Ap: 0.00e+00 Pobj:  0.0000000e+00 Ad: 0.00e+00 Dobj:  0.0000000e+00 \n",
      "Iter:  1 Ap: 1.00e+00 Pobj: -1.5751371e+01 Ad: 7.93e-01 Dobj: -1.8596991e-01 \n",
      "Iter:  2 Ap: 1.00e+00 Pobj: -1.3829292e+01 Ad: 9.44e-01 Dobj: -2.5639371e-01 \n",
      "Iter:  3 Ap: 1.00e+00 Pobj: -3.6548572e+00 Ad: 9.22e-01 Dobj: -2.8097530e-01 \n",
      "Iter:  4 Ap: 1.00e+00 Pobj: -6.7102979e-01 Ad: 8.42e-01 Dobj: -3.1080769e-01 \n",
      "Iter:  5 Ap: 1.00e+00 Pobj: -5.8576247e-01 Ad: 8.44e-01 Dobj: -4.8002387e-01 \n",
      "Iter:  6 Ap: 1.00e+00 Pobj: -5.0647721e-01 Ad: 8.85e-01 Dobj: -4.9296240e-01 \n",
      "Iter:  7 Ap: 1.00e+00 Pobj: -5.0060022e-01 Ad: 9.41e-01 Dobj: -4.9923793e-01 \n",
      "Iter:  8 Ap: 1.00e+00 Pobj: -5.0005080e-01 Ad: 1.00e+00 Dobj: -4.9996691e-01 \n",
      "Iter:  9 Ap: 1.00e+00 Pobj: -5.0000234e-01 Ad: 1.00e+00 Dobj: -4.9999913e-01 \n",
      "Iter: 10 Ap: 1.00e+00 Pobj: -5.0000016e-01 Ad: 1.00e+00 Dobj: -5.0000000e-01 \n",
      "Iter: 11 Ap: 9.58e-01 Pobj: -5.0000001e-01 Ad: 9.70e-01 Dobj: -5.0000000e-01 \n",
      "Success: SDP solved\n",
      "Primal objective value: -5.0000001e-01 \n",
      "Dual objective value: -5.0000000e-01 \n",
      "Relative primal infeasibility: 4.18e-16 \n",
      "Relative dual infeasibility: 3.98e-09 \n",
      "Real Relative Gap: 2.49e-09 \n",
      "XZ Relative Gap: 9.08e-09 \n",
      "DIMACS error measures: 4.38e-16 0.00e+00 8.28e-09 0.00e+00 2.49e-09 9.08e-09\n"
     ]
    },
    {
     "name": "stderr",
     "output_type": "stream",
     "text": [
      "\n"
     ]
    },
    {
     "data": {
      "text/plain": [
       "0.5000000069458577"
      ]
     },
     "execution_count": 38,
     "metadata": {},
     "output_type": "execute_result"
    }
   ],
   "source": [
    "###\n",
    "### Certificates\n",
    "###\n",
    "\n",
    "# The optimizer can save the certificates to a provided file\n",
    "G.reset()\n",
    "G.exclude(G(3))\n",
    "# The format could be either an exact rational solution, or an approximate like this\n",
    "G.optimize(G(2), 3, file=\"test\")"
   ]
  },
  {
   "cell_type": "code",
   "execution_count": 39,
   "id": "a348d7a4-ef0b-49e4-9a30-296380046620",
   "metadata": {},
   "outputs": [
    {
     "name": "stdout",
     "output_type": "stream",
     "text": [
      "Checking X matrices\n"
     ]
    },
    {
     "name": "stderr",
     "output_type": "stream",
     "text": [
      "1it [00:00, 367.47it/s]\n"
     ]
    },
    {
     "name": "stdout",
     "output_type": "stream",
     "text": [
      "Solution matrices are all positive semidefinite, linear coefficients are all non-negative\n",
      "Calculating multiplication tables\n"
     ]
    },
    {
     "name": "stderr",
     "output_type": "stream",
     "text": [
      "1it [00:00, 1522.99it/s]\n"
     ]
    },
    {
     "name": "stdout",
     "output_type": "stream",
     "text": [
      "Done calculating linear constraints\n",
      "Calculating the bound provided by the certificate\n"
     ]
    },
    {
     "name": "stderr",
     "output_type": "stream",
     "text": [
      "1it [00:00, 960.45it/s]"
     ]
    },
    {
     "name": "stdout",
     "output_type": "stream",
     "text": [
      "The solution is valid, it proves the bound 29780781672501568/59561562885324537\n"
     ]
    },
    {
     "name": "stderr",
     "output_type": "stream",
     "text": [
      "\n"
     ]
    },
    {
     "data": {
      "text/plain": [
       "29780781672501568/59561562885324537"
      ]
     },
     "execution_count": 39,
     "metadata": {},
     "output_type": "execute_result"
    }
   ],
   "source": [
    "# A given certificate can be verified\n",
    "\n",
    "# Note that the problem we verify the certificate for has to be the same\n",
    "# This includes target value, target size, positives, excluded structures.\n",
    "# The construction used for rounding is not needed here\n",
    "\n",
    "# For now, this transforms everything to a rational\n",
    "G.reset()\n",
    "G.exclude(G(3))\n",
    "G.verify(\"test\", G(2), 3)"
   ]
  },
  {
   "cell_type": "code",
   "execution_count": 40,
   "id": "dd48bad4-194a-45a3-b484-e814236b29ae",
   "metadata": {},
   "outputs": [
    {
     "name": "stdout",
     "output_type": "stream",
     "text": [
      "Base flags generated, their number is 3\n",
      "The relevant ftypes are constructed, their number is 1\n",
      "Block sizes before symmetric/asymmetric change is applied: [2]\n"
     ]
    },
    {
     "name": "stderr",
     "output_type": "stream",
     "text": [
      "Done with mult table for Ftype on 1 points with edges=(): : 1it [00:00, 533.02it/s]"
     ]
    },
    {
     "name": "stdout",
     "output_type": "stream",
     "text": [
      "Tables finished\n",
      "Constraints finished\n",
      "Relevant ftypes up to size 4\n",
      " [(3, Ftype on 2 points with edges=(), 4), (3, Ftype on 2 points with edges=(01), 4)]\n",
      "Base flags generated, their number is 7\n"
     ]
    },
    {
     "name": "stderr",
     "output_type": "stream",
     "text": [
      "\n"
     ]
    },
    {
     "name": "stdout",
     "output_type": "stream",
     "text": [
      "The relevant ftypes are constructed, their number is 1\n",
      "Block sizes before symmetric/asymmetric change is applied: [3]\n"
     ]
    },
    {
     "name": "stderr",
     "output_type": "stream",
     "text": [
      "Done with mult table for Ftype on 2 points with edges=(): : 1it [00:00, 19.31it/s]"
     ]
    },
    {
     "name": "stdout",
     "output_type": "stream",
     "text": [
      "Tables finished\n",
      "Constraints finished\n"
     ]
    },
    {
     "name": "stderr",
     "output_type": "stream",
     "text": [
      "\n"
     ]
    }
   ],
   "source": [
    "###\n",
    "### Exporting the SDP problem\n",
    "###\n",
    "\n",
    "# It is possible to create an SDP problem instance and solve that on a different machine\n",
    "G.reset()\n",
    "G.exclude(G(3))\n",
    "# The parameters are the same as for the regular optimize, \n",
    "# except it can't do an exact solution and requires a file name to write the problem to.\n",
    "G.external_optimize(G(2), 3, file=\"problem\")\n",
    "\n",
    "# If the problem is too large, it is possible to export with only a few types.\n",
    "# The following command lists the relevant ftypes appearing in an optimization with target size 4\n",
    "print(\"Relevant ftypes up to size 4\\n\", G._get_relevant_ftypes(4))\n",
    "\n",
    "# Choosing a subset of this can be passed to the external optimize like this\n",
    "\n",
    "types_relevant = [G._get_relevant_ftypes(4)[0]]\n",
    "G.external_optimize(G(2), 4, file=\"problem_2\", specific_ftype=types_relevant)"
   ]
  },
  {
   "cell_type": "code",
   "execution_count": 41,
   "id": "814fef6b-9040-4446-907f-da2d2242e7f4",
   "metadata": {},
   "outputs": [
    {
     "name": "stdout",
     "output_type": "stream",
     "text": [
      "Base flags generated, their number is 11\n",
      "The relevant ftypes are constructed, their number is 2\n",
      "Block sizes before symmetric/asymmetric change is applied: [4, 4]\n"
     ]
    },
    {
     "name": "stderr",
     "output_type": "stream",
     "text": [
      "Done with mult table for Ftype on 2 points with edges=(01): : 2it [00:00, 606.33it/s]\n"
     ]
    },
    {
     "name": "stdout",
     "output_type": "stream",
     "text": [
      "Tables finished\n"
     ]
    },
    {
     "name": "stderr",
     "output_type": "stream",
     "text": [
      "Done with positivity constraint 0: 100%|█████████| 1/1 [00:00<00:00, 408.09it/s]"
     ]
    },
    {
     "name": "stdout",
     "output_type": "stream",
     "text": [
      "Constraints finished\n",
      "Running sdp without construction. Used block sizes are [3, 1, 3, 1, -11, -4]\n",
      "CSDP 6.2.0\n",
      "Iter:  0 Ap: 0.00e+00 Pobj:  0.0000000e+00 Ad: 0.00e+00 Dobj:  0.0000000e+00 \n",
      "Iter:  1 Ap: 1.00e+00 Pobj: -2.0362520e+01 Ad: 7.29e-01 Dobj: -6.0813905e-02 \n",
      "Iter:  2 Ap: 1.00e+00 Pobj: -2.0324044e+01 Ad: 9.49e-01 Dobj: -1.4090943e-01 \n",
      "Iter:  3 Ap: 1.00e+00 Pobj: -1.2792868e+01 Ad: 8.87e-01 Dobj: -1.4525769e-01 \n"
     ]
    },
    {
     "name": "stderr",
     "output_type": "stream",
     "text": [
      "\n"
     ]
    },
    {
     "name": "stdout",
     "output_type": "stream",
     "text": [
      "Iter:  4 Ap: 1.00e+00 Pobj: -2.6397598e+00 Ad: 8.16e-01 Dobj: -1.4716860e-01 \n",
      "Iter:  5 Ap: 9.72e-01 Pobj: -5.7583916e-01 Ad: 8.88e-01 Dobj: -1.6648294e-01 \n",
      "Iter:  6 Ap: 1.00e+00 Pobj: -4.7426918e-01 Ad: 8.51e-01 Dobj: -2.9014271e-01 \n",
      "Iter:  7 Ap: 1.00e+00 Pobj: -3.7535668e-01 Ad: 7.50e-01 Dobj: -3.2194950e-01 \n",
      "Iter:  8 Ap: 1.00e+00 Pobj: -3.5708921e-01 Ad: 8.67e-01 Dobj: -3.4601216e-01 \n",
      "Iter:  9 Ap: 1.00e+00 Pobj: -3.5385242e-01 Ad: 1.00e+00 Dobj: -3.5310489e-01 \n",
      "Iter: 10 Ap: 9.99e-01 Pobj: -3.5356555e-01 Ad: 1.00e+00 Dobj: -3.5353581e-01 \n",
      "Iter: 11 Ap: 9.94e-01 Pobj: -3.5355424e-01 Ad: 1.00e+00 Dobj: -3.5355363e-01 \n",
      "Iter: 12 Ap: 1.00e+00 Pobj: -3.5355343e-01 Ad: 9.87e-01 Dobj: -3.5355340e-01 \n",
      "Iter: 13 Ap: 9.59e-01 Pobj: -3.5355339e-01 Ad: 9.57e-01 Dobj: -3.5355339e-01 \n",
      "Success: SDP solved\n",
      "Primal objective value: -3.5355339e-01 \n",
      "Dual objective value: -3.5355339e-01 \n",
      "Relative primal infeasibility: 1.49e-15 \n",
      "Relative dual infeasibility: 1.83e-09 \n",
      "Real Relative Gap: 3.80e-10 \n",
      "XZ Relative Gap: 3.49e-09 \n",
      "DIMACS error measures: 1.61e-15 0.00e+00 4.96e-09 0.00e+00 3.80e-10 3.49e-09\n",
      "The initial run didn't provide an accurate construction\n",
      "Rounding X matrices\n"
     ]
    },
    {
     "name": "stderr",
     "output_type": "stream",
     "text": [
      "100%|████████████████████████████████████████████| 4/4 [00:00<00:00, 948.19it/s]\n"
     ]
    },
    {
     "name": "stdout",
     "output_type": "stream",
     "text": [
      "Calculating resulting bound\n"
     ]
    },
    {
     "name": "stderr",
     "output_type": "stream",
     "text": [
      "100%|████████████████████████████████████████████| 2/2 [00:00<00:00, 196.80it/s]"
     ]
    },
    {
     "name": "stdout",
     "output_type": "stream",
     "text": [
      "The rounded result is -363/1024\n"
     ]
    },
    {
     "name": "stderr",
     "output_type": "stream",
     "text": [
      "\n"
     ]
    },
    {
     "data": {
      "text/plain": [
       "363/1024"
      ]
     },
     "execution_count": 41,
     "metadata": {},
     "output_type": "execute_result"
    }
   ],
   "source": [
    "###\n",
    "### Rounding over larger fields\n",
    "###\n",
    "\n",
    "# It is possible to specify a field extension of the rational\n",
    "# And perform the rounding there\n",
    "\n",
    "# Recall the problem\n",
    "G.reset()\n",
    "G.optimize(G(3), 4, positives=[ 1/2 - G(2) ], exact=True)"
   ]
  },
  {
   "cell_type": "code",
   "execution_count": 42,
   "id": "ed323bdd-46c1-461a-a7f3-fae76c1c050c",
   "metadata": {},
   "outputs": [
    {
     "name": "stderr",
     "output_type": "stream",
     "text": [
      "16it [00:00, 1948.80it/s]\n"
     ]
    },
    {
     "name": "stdout",
     "output_type": "stream",
     "text": [
      "Base flags generated, their number is 11\n",
      "The relevant ftypes are constructed, their number is 2\n",
      "Block sizes before symmetric/asymmetric change is applied: [4, 4]\n"
     ]
    },
    {
     "name": "stderr",
     "output_type": "stream",
     "text": [
      "Done with mult table for Ftype on 2 points with edges=(01): : 2it [00:00, 981.01it/s]\n"
     ]
    },
    {
     "name": "stdout",
     "output_type": "stream",
     "text": [
      "Tables finished\n"
     ]
    },
    {
     "name": "stderr",
     "output_type": "stream",
     "text": [
      "Done with positivity constraint 0: 100%|█████████| 1/1 [00:00<00:00, 613.83it/s]\n"
     ]
    },
    {
     "name": "stdout",
     "output_type": "stream",
     "text": [
      "Constraints finished\n",
      "Adjusting table with kernels from construction\n",
      "Running SDP after kernel correction. Used block sizes are [2, 1, 1, -11, -4]\n",
      "CSDP 6.2.0\n",
      "Iter:  0 Ap: 0.00e+00 Pobj:  0.0000000e+00 Ad: 0.00e+00 Dobj:  0.0000000e+00 \n",
      "Iter:  1 Ap: 1.00e+00 Pobj: -1.5710306e+01 Ad: 7.86e-01 Dobj:  1.5423449e+00 \n",
      "Iter:  2 Ap: 1.00e+00 Pobj: -1.5648648e+01 Ad: 9.46e-01 Dobj: -2.6486804e-02 \n",
      "Iter:  3 Ap: 1.00e+00 Pobj: -9.4555323e+00 Ad: 8.85e-01 Dobj: -8.6856597e-02 \n",
      "Iter:  4 Ap: 1.00e+00 Pobj: -1.5831052e+00 Ad: 8.29e-01 Dobj: -9.5169021e-02 \n",
      "Iter:  5 Ap: 9.58e-01 Pobj: -5.1183501e-01 Ad: 8.57e-01 Dobj: -1.2754711e-01 \n",
      "Iter:  6 Ap: 1.00e+00 Pobj: -4.6540901e-01 Ad: 7.67e-01 Dobj: -2.6233982e-01 \n",
      "Iter:  7 Ap: 1.00e+00 Pobj: -3.8486853e-01 Ad: 7.35e-01 Dobj: -3.0767273e-01 \n",
      "Iter:  8 Ap: 1.00e+00 Pobj: -3.5735741e-01 Ad: 8.69e-01 Dobj: -3.4221005e-01 \n",
      "Iter:  9 Ap: 1.00e+00 Pobj: -3.5381039e-01 Ad: 1.00e+00 Dobj: -3.5279892e-01 \n",
      "Iter: 10 Ap: 9.95e-01 Pobj: -3.5356425e-01 Ad: 1.00e+00 Dobj: -3.5352377e-01 \n",
      "Iter: 11 Ap: 9.92e-01 Pobj: -3.5355404e-01 Ad: 1.00e+00 Dobj: -3.5355307e-01 \n",
      "Iter: 12 Ap: 1.00e+00 Pobj: -3.5355342e-01 Ad: 9.97e-01 Dobj: -3.5355338e-01 \n",
      "Iter: 13 Ap: 9.60e-01 Pobj: -3.5355339e-01 Ad: 9.57e-01 Dobj: -3.5355339e-01 \n",
      "Success: SDP solved\n",
      "Primal objective value: -3.5355339e-01 \n",
      "Dual objective value: -3.5355339e-01 \n",
      "Relative primal infeasibility: 2.19e-15 \n",
      "Relative dual infeasibility: 2.14e-09 \n",
      "Real Relative Gap: 3.25e-10 \n",
      "XZ Relative Gap: 4.23e-09 \n",
      "DIMACS error measures: 2.37e-15 0.00e+00 5.18e-09 0.00e+00 3.25e-10 4.23e-09\n",
      "Starting the rounding of the result\n",
      "Rounding X matrices\n",
      "Calculating resulting bound\n"
     ]
    },
    {
     "name": "stderr",
     "output_type": "stream",
     "text": [
      "100%|████████████████████████████████████████████| 2/2 [00:00<00:00, 110.11it/s]"
     ]
    },
    {
     "name": "stdout",
     "output_type": "stream",
     "text": [
      "Final rounded bound is 1/4*sqrt2\n"
     ]
    },
    {
     "name": "stderr",
     "output_type": "stream",
     "text": [
      "\n"
     ]
    },
    {
     "data": {
      "text/plain": [
       "1/4*sqrt2"
      ]
     },
     "execution_count": 42,
     "metadata": {},
     "output_type": "execute_result"
    }
   ],
   "source": [
    "# This, even when ran with exact=True fails to give a correct value, \n",
    "# as the precise number is not rational\n",
    "# to perform the same calculation in a larger field, we can specify it\n",
    "\n",
    "# Rationals extended with sqrt(2)\n",
    "TargetRing = QQ[sqrt(2)]\n",
    "\n",
    "# Symbolic optimal construction \n",
    "constr_symbolic = G.blowup_construction(4, 2, True, False, False, edges=[[0, 1], [1, 1]])\n",
    "# Optimal construction in the extended field\n",
    "constr = constr_symbolic.subs([1/sqrt(2), 1-(1/sqrt(2))], ring=TargetRing)\n",
    "# Optimizer also in the extended field\n",
    "G.optimize(G(3), 4, positives=[1/2 - G(2)], construction=constr, exact=True, ring=TargetRing)"
   ]
  },
  {
   "cell_type": "markdown",
   "id": "49e99676-293b-4d42-bfa7-3a70cb51d4dc",
   "metadata": {},
   "source": [
    "Miscallenous\n",
    "============"
   ]
  },
  {
   "cell_type": "code",
   "execution_count": 43,
   "id": "8eec3474-134b-42e2-9dcb-eb03a2746059",
   "metadata": {},
   "outputs": [],
   "source": [
    "###\n",
    "### Useful functions \n",
    "###\n",
    "\n",
    "\n",
    "# for theories\n",
    "G.empty() # provides the empty element of the theory\n",
    "G.generate(3, G(2, ftype=[0, 1])) # generates flags with given size and type\n",
    "G.exclude([G(3), G(2)]) # sets the excluded structures\n",
    "G.reset() # resets the excluded structures\n",
    "#G.clear() # clears all cached calculations"
   ]
  },
  {
   "cell_type": "code",
   "execution_count": 44,
   "id": "b346fa75-41b4-4c29-9885-164a35c3a057",
   "metadata": {},
   "outputs": [
    {
     "name": "stdout",
     "output_type": "stream",
     "text": [
      "True\n",
      "True\n"
     ]
    }
   ],
   "source": [
    "# For flags\n",
    "\n",
    "e2 = G(2, edges=[], ftype=[0])\n",
    "\n",
    "e2 + e2\n",
    "e2 * e2\n",
    "test = e2 << 2\n",
    "test.size()\n",
    "e2.blocks()\n",
    "\n",
    "pe2 = G(2, ftype=[])\n",
    "print(pe2.afae() == pe2.project())\n",
    "print(pe2.mul_project(pe2) == (pe2*pe2).project())"
   ]
  },
  {
   "cell_type": "code",
   "execution_count": 45,
   "id": "a01e66c4-3918-450b-b498-cae7e7f11538",
   "metadata": {},
   "outputs": [
    {
     "name": "stdout",
     "output_type": "stream",
     "text": [
      "Flag Algebra with Ftype on 0 points with edges=() over Rational Field \n",
      " Flag Algebra with Ftype on 1 points with edges=() over Rational Field \n",
      " Flag Algebra with Ftype on 0 points with edges=() over Real Field with 53 bits of precision \n",
      " Flag Algebra with Ftype on 0 points with edges=() over Univariate Polynomial Ring in x over Rational Field\n"
     ]
    }
   ],
   "source": [
    "# The FlagAlgebra objects\n",
    "\n",
    "G = GraphTheory\n",
    "alg = FlagAlgebra(G, QQ)\n",
    "\n",
    "point = G(1, ftype=[0])\n",
    "alg_pointed = FlagAlgebra(G, QQ, point)\n",
    "\n",
    "alg_real = FlagAlgebra(G, RR)\n",
    "\n",
    "alg_poly = FlagAlgebra(G, QQ[\"x\"])\n",
    "\n",
    "print(alg, \"\\n\", alg_pointed, \"\\n\",  alg_real, \"\\n\", alg_poly)"
   ]
  },
  {
   "cell_type": "code",
   "execution_count": 46,
   "id": "4f5b451e-f39b-47c8-8d94-6ef23a75a1c0",
   "metadata": {},
   "outputs": [
    {
     "data": {
      "text/plain": [
       "Flag Algebra Element over Univariate Polynomial Ring in x over Rational Field\n",
       "x^2 + 3/2*x + 1/2  - Flag on 4 points, ftype from () with edges=()\n",
       "x^2 + 7/6*x + 1/4  - Flag on 4 points, ftype from () with edges=(01)\n",
       "x^2 + 5/6*x        - Flag on 4 points, ftype from () with edges=(01 03)\n",
       "x^2 + 5/6*x + 1/3  - Flag on 4 points, ftype from () with edges=(02 13)\n",
       "x^2 + 1/2*x - 1/4  - Flag on 4 points, ftype from () with edges=(01 02 03)\n",
       "x^2 + 1/2*x - 1/4  - Flag on 4 points, ftype from () with edges=(01 03 13)\n",
       "x^2 + 1/2*x + 1/12 - Flag on 4 points, ftype from () with edges=(01 02 13)\n",
       "x^2 + 1/6*x - 1/6  - Flag on 4 points, ftype from () with edges=(01 02 03 13)\n",
       "x^2 + 1/6*x + 1/6  - Flag on 4 points, ftype from () with edges=(02 03 12 13)\n",
       "x^2 - 1/6*x - 1/12 - Flag on 4 points, ftype from () with edges=(01 02 03 12 13)\n",
       "x^2 - 1/2*x        - Flag on 4 points, ftype from () with edges=(01 02 03 12 13 23)"
      ]
     },
     "execution_count": 46,
     "metadata": {},
     "output_type": "execute_result"
    }
   ],
   "source": [
    "# Calculations over polynomial rings\n",
    "\n",
    "x = alg_poly(x)\n",
    "(x + G(2)) * (G(2, edge=[[0, 1]]) - 1/2 + x)"
   ]
  }
 ],
 "metadata": {
  "kernelspec": {
   "display_name": "SageMath 10.5.beta7",
   "language": "sage",
   "name": "sagemath"
  },
  "language_info": {
   "codemirror_mode": {
    "name": "ipython",
    "version": 3
   },
   "file_extension": ".py",
   "mimetype": "text/x-python",
   "name": "python",
   "nbconvert_exporter": "python",
   "pygments_lexer": "ipython3",
   "version": "3.10.12"
  }
 },
 "nbformat": 4,
 "nbformat_minor": 5
}
